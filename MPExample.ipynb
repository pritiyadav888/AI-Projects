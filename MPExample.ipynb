{
  "cells": [
    {
      "cell_type": "markdown",
      "metadata": {
        "id": "view-in-github",
        "colab_type": "text"
      },
      "source": [
        "<a href=\"https://colab.research.google.com/github/pritiyadav888/AI-projects/blob/main/MPExample.ipynb\" target=\"_parent\"><img src=\"https://colab.research.google.com/assets/colab-badge.svg\" alt=\"Open In Colab\"/></a>"
      ]
    },
    {
      "cell_type": "code",
      "execution_count": null,
      "metadata": {
        "id": "xl_gUIk5fc4A",
        "outputId": "758caa04-46ab-4fd2-a29c-2d03c4800be4",
        "colab": {
          "base_uri": "https://localhost:8080/"
        }
      },
      "outputs": [
        {
          "output_type": "stream",
          "name": "stdout",
          "text": [
            "2.7.0\n",
            "value for threshold calculation:0.99999\n",
            "Availability of location x     :0.00001\n"
          ]
        }
      ],
      "source": [
        "# PacktPublishing\n",
        "# Artificial-Intelligence-By-Example-Second-Edition\n",
        "# McCulloch Pitt Neuron built with Tensorflow and represented with\n",
        "# Tensorflow 2.0.0-beta1\n",
        "# Copyright 2019 Denis Rothman MIT License. See LICENSE.\n",
        "\n",
        "import tensorflow as tf\n",
        "import numpy as np\n",
        "import math\n",
        "\n",
        "print(tf.__version__)\n",
        "\n",
        "# The variables\n",
        "x = tf.Variable([[0.0,0.0,0.0,0.0,0.0]], dtype = tf.float32)\n",
        "W = tf.Variable([[0.0],[0.0],[0.0],[0.0],[0.0]], dtype = tf.float32)\n",
        "b = tf.Variable([[0.0]])\n",
        "\n",
        "# The Neuron\n",
        "def neuron(x, W, b):\n",
        "    y1=np.multiply(x,W)+b\n",
        "    y1=np.sum(y1)\n",
        "    y = 1 / (1 + np.exp(-y1)) #logistic Sigmoid \n",
        "    return y  \n",
        "\n",
        "# The data\n",
        "x_1 = [[10, 2, 1., 6., 2.]]\n",
        "w_t = [[.1, .7, .75, .60, .20]]\n",
        "b_1 = [1.0]\n",
        "\n",
        "# Computing the value of the neuron\n",
        "value=neuron(x_1,w_t,b_1)\n",
        "\n",
        "# Availability of the location computed\n",
        "availability=1-value\n",
        "print(\"value for threshold calculation:{0:.5f}\".format(round(value,5)))\n",
        "print(\"Availability of location x     :{0:.5f}\".format(round(availability,5)))\n",
        "\n",
        "\n"
      ]
    },
    {
      "cell_type": "code",
      "execution_count": null,
      "metadata": {
        "id": "xl8mD9-Ifc4C"
      },
      "outputs": [],
      "source": [
        ""
      ]
    }
  ],
  "metadata": {
    "kernelspec": {
      "display_name": "Python 3",
      "language": "python",
      "name": "python3"
    },
    "language_info": {
      "codemirror_mode": {
        "name": "ipython",
        "version": 3
      },
      "file_extension": ".py",
      "mimetype": "text/x-python",
      "name": "python",
      "nbconvert_exporter": "python",
      "pygments_lexer": "ipython3",
      "version": "3.7.7"
    },
    "colab": {
      "name": "MPExample.ipynb",
      "provenance": [],
      "include_colab_link": true
    }
  },
  "nbformat": 4,
  "nbformat_minor": 0
}