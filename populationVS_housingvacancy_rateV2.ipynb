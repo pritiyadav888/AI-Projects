{
  "nbformat": 4,
  "nbformat_minor": 0,
  "metadata": {
    "colab": {
      "provenance": [],
      "authorship_tag": "ABX9TyOQET6X9wAYlN9K0GQZ+jC5",
      "include_colab_link": true
    },
    "kernelspec": {
      "name": "python3",
      "display_name": "Python 3"
    },
    "language_info": {
      "name": "python"
    }
  },
  "cells": [
    {
      "cell_type": "markdown",
      "metadata": {
        "id": "view-in-github",
        "colab_type": "text"
      },
      "source": [
        "<a href=\"https://colab.research.google.com/github/pritiyadav888/AI-projects/blob/main/populationVS_housingvacancy_rateV2.ipynb\" target=\"_parent\"><img src=\"https://colab.research.google.com/assets/colab-badge.svg\" alt=\"Open In Colab\"/></a>"
      ]
    },
    {
      "cell_type": "code",
      "source": [
        "import pandas as pd\n",
        "import numpy as np\n",
        "import matplotlib.pyplot as plt\n",
        "import seaborn as sns\n",
        "import plotly.express as px\n",
        "\n",
        "# Load datasets\n",
        "df_vaca_1 = pd.read_csv('https://raw.githubusercontent.com/pritiyadav888/Housing-datasets/main/3410012801_databaseLoadingData.csv')\n",
        "df_vaca_2 = pd.read_csv('https://raw.githubusercontent.com/pritiyadav888/Housing-datasets/main/3410012901_databaseLoadingData.csv')\n",
        "df_popul_1 = pd.read_csv('https://raw.githubusercontent.com/pritiyadav888/Housing-datasets/main/Population%20estimates_1.csv')\n",
        "df_popul_2 = pd.read_csv('https://raw.githubusercontent.com/pritiyadav888/Housing-datasets/main/Population%20estimates_2.csv')\n",
        "\n",
        "# Merge datasets\n",
        "merged_vacan = pd.concat([df_vaca_1, df_vaca_2], join='inner')\n",
        "merged_popul = pd.concat([df_popul_1, df_popul_2], join='inner')\n",
        "\n",
        "# Rename columns for better understanding\n",
        "def rename_columns(df):\n",
        "    return df.rename(columns={'VALUE': 'value', 'GEO': 'geo', 'REF_DATE': 'year'})\n",
        "\n",
        "merged_vacan = rename_columns(merged_vacan)\n",
        "merged_popul = rename_columns(merged_popul)\n",
        "\n",
        "# Drop unnecessary columns\n",
        "def drop_columns(df):\n",
        "    columns_to_drop = ['STATUS', 'SYMBOL', 'TERMINATED', 'DECIMALS']\n",
        "    return df.drop(columns=columns_to_drop, errors='ignore')\n",
        "\n",
        "merged_vacan = drop_columns(merged_vacan)\n",
        "merged_popul = drop_columns(merged_popul)\n",
        "\n",
        "# Handle missing values (fillna with 0 - change this to another method if you prefer)\n",
        "merged_vacan['value'].fillna(0, inplace=True)\n",
        "\n",
        "# Create a function to extract the province name from the 'geo' column\n",
        "def extract_province(geo):\n",
        "    provinces = ['Newfoundland and Labrador', 'Prince Edward Island', 'Nova Scotia', 'New Brunswick', 'Quebec', 'Ontario', 'Manitoba', 'Saskatchewan', 'Alberta', 'British Columbia', 'Yukon', 'Northwest Territories', 'Nunavut']\n",
        "    for province in provinces:\n",
        "        if province in geo:\n",
        "            return province\n",
        "    return None\n",
        "\n",
        "# Apply the extract_province function to each dataset\n",
        "merged_popul['province'] = merged_popul['geo'].apply(extract_province)\n",
        "merged_vacan['province'] = merged_vacan['geo'].apply(extract_province)\n",
        "\n",
        "# Group the data by 'province' and 'year' and calculate the mean (or sum) for each group\n",
        "grouped_popul = merged_popul.groupby(['province', 'year']).sum().reset_index()\n",
        "grouped_vacan = merged_vacan.groupby(['province', 'year']).mean().reset_index()\n",
        "\n",
        "# Merge the two datasets on the 'province' and 'year' columns\n",
        "merged_data = pd.merge(grouped_vacan, grouped_popul, on=['province', 'year'])\n",
        "\n",
        "# Calculate percentage changes and add as new columns\n",
        "merged_data['population_change_pct'] = merged_data.groupby('province')['value_y'].pct_change() * 100\n",
        "merged_data['vacancy_rate_change_pct'] = merged_data.groupby('province')['value_x'].pct_change() * 100"
      ],
      "metadata": {
        "colab": {
          "base_uri": "https://localhost:8080/"
        },
        "id": "MljUiH1ZQ7MC",
        "outputId": "91c39e81-934c-4251-ee65-6f3dfbc57349"
      },
      "execution_count": 8,
      "outputs": [
        {
          "output_type": "stream",
          "name": "stderr",
          "text": [
            "<ipython-input-8-3093f4f30236>:48: FutureWarning:\n",
            "\n",
            "The default value of numeric_only in DataFrameGroupBy.sum is deprecated. In a future version, numeric_only will default to False. Either specify numeric_only or select only columns which should be valid for the function.\n",
            "\n",
            "<ipython-input-8-3093f4f30236>:49: FutureWarning:\n",
            "\n",
            "The default value of numeric_only in DataFrameGroupBy.mean is deprecated. In a future version, numeric_only will default to False. Either specify numeric_only or select only columns which should be valid for the function.\n",
            "\n"
          ]
        }
      ]
    },
    {
      "cell_type": "code",
      "source": [
        "# Filter the data based on a specific year (e.g., 2020)\n",
        "before_covid = merged_data[merged_data['year'] < 2020]\n",
        "after_covid = merged_data[merged_data['year'] >= 2020]\n",
        "\n",
        "# Create a D3 visualization using Plotly\n",
        "# Create a D3 visualization using Plotly and save as HTML\n",
        "fig1 = px.line(merged_data, x='year', y='population_change_pct', color='province')\n",
        "fig1.update_layout(title='Population Change Over Years by Province', xaxis_title='Year', yaxis_title='Population Change (%)')\n",
        "fig1.write_html(\"population_change.html\")\n",
        "\n",
        "fig2 = px.line(merged_data, x='year', y='vacancy_rate_change_pct', color='province')\n",
        "fig2.update_layout(title='Vacancy Rate Change Over Years by Province', xaxis_title='Year', yaxis_title='Vacancy Rate Change (%)')\n",
        "fig2.write_html(\"vacancy_rate_change.html\")\n",
        "\n",
        "fig3 = px.line(before_covid, x='population_change_pct', y='vacancy_rate_change_pct', color='province',\n",
        "                 title='Population Change vs. Vacancy Rate Change by Province Before COVID-19')\n",
        "fig3.update_layout(xaxis_title='Population Change (%)', yaxis_title='Vacancy Rate Change (%)')\n",
        "fig3.write_html(\"scatter_before_covid.html\")\n",
        "\n",
        "fig4 = px.line(after_covid, x='population_change_pct', y='vacancy_rate_change_pct', color='province',\n",
        "                 title='Population Change vs. Vacancy Rate Change by Province After COVID-19')\n",
        "fig4.update_layout(xaxis_title='Population Change (%)', yaxis_title='Vacancy Rate Change (%)')\n",
        "fig4.write_html(\"scatter_after_covid.html\")\n",
        "\n",
        "table_data_before = before_covid.groupby('province')[['population_change_pct', 'vacancy_rate_change_pct']].mean()\n",
        "table_data_after = after_covid.groupby('province')[['population_change_pct', 'vacancy_rate_change_pct']].mean()\n",
        "\n",
        "table_data = pd.concat([table_data_before, table_data_after], axis=1, keys=['Before COVID', 'After COVID'])\n",
        "table_data.index.name = 'Province'\n",
        "table_data.reset_index(inplace=True)\n",
        "\n",
        "# Save the numeric table as HTML\n",
        "table_data_html = table_data.to_html(index=False)\n",
        "with open('numeric_table.html', 'w') as f:\n",
        "    f.write(table_data_html)"
      ],
      "metadata": {
        "id": "uoD64ocwRRi-"
      },
      "execution_count": 9,
      "outputs": []
    },
    {
      "cell_type": "code",
      "source": [
        "# Read the HTML files\n",
        "with open('population_change.html') as f:\n",
        "    population_change_html = f.read()\n",
        "    \n",
        "with open('vacancy_rate_change.html') as f:\n",
        "    vacancy_rate_change_html = f.read()\n",
        "    \n",
        "with open('scatter_before_covid.html') as f:\n",
        "    scatter_before_covid_html = f.read()\n",
        "    \n",
        "with open('scatter_after_covid.html') as f:\n",
        "    scatter_after_covid_html = f.read()\n",
        "    \n",
        "with open('numeric_table.html') as f:\n",
        "    numeric_table_html = f.read()\n",
        "\n",
        "# Add margin and padding to the numeric table\n",
        "numeric_table_html = numeric_table_html.replace('<table>', '<table style=\"margin: 20px; padding: 10px;\">')\n",
        "\n",
        "# Merge the HTML files\n",
        "housing_vacancy_rate = f\"\"\"\n",
        "<html>\n",
        "<head>\n",
        "    <title>Housing Vacancy Rate vs Population</title>\n",
        "</head>\n",
        "<body>\n",
        "    <p>\"Note: As the analyst, I have presented the findings and conclusions in this HTML file based on the data available at the time of analysis and the methods used to process and visualize the data. While these insights may be helpful for certain purposes, they should be considered as exploratory and not definitive. It is recommended that you conduct your own research and analysis to validate and supplement the information presented here. Please be aware that the level of detail and technicality of the analysis may vary depending on the experience and expertise of the analyst. As such, exercise caution and do not blindly rely on the information presented without conducting your own due diligence.\"</p>\n",
        "    <p></p>\n",
        "    {population_change_html}\n",
        "    {vacancy_rate_change_html}\n",
        "    {scatter_before_covid_html}\n",
        "    {scatter_after_covid_html}\n",
        "    {numeric_table_html}\n",
        "</body>\n",
        "</html>\n",
        "\"\"\"\n",
        "\n",
        "# Save the merged HTML file\n",
        "with open('housing_vacancy_rate.html', 'w') as f:\n",
        "    f.write(housing_vacancy_rate)"
      ],
      "metadata": {
        "id": "Ws2OFeIdn6ba"
      },
      "execution_count": 12,
      "outputs": []
    }
  ]
}