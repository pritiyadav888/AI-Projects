{
  "nbformat": 4,
  "nbformat_minor": 0,
  "metadata": {
    "colab": {
      "provenance": [],
      "authorship_tag": "ABX9TyONXcxU/mpU+XdQplLsEIYN",
      "include_colab_link": true
    },
    "kernelspec": {
      "name": "python3",
      "display_name": "Python 3"
    },
    "language_info": {
      "name": "python"
    }
  },
  "cells": [
    {
      "cell_type": "markdown",
      "metadata": {
        "id": "view-in-github",
        "colab_type": "text"
      },
      "source": [
        "<a href=\"https://colab.research.google.com/github/pritiyadav888/AI-projects/blob/main/populationVS_housingvacancy_rate.ipynb\" target=\"_parent\"><img src=\"https://colab.research.google.com/assets/colab-badge.svg\" alt=\"Open In Colab\"/></a>"
      ]
    },
    {
      "cell_type": "code",
      "source": [
        "import pandas as pd\n",
        "import numpy as np\n",
        "import matplotlib.pyplot as plt\n",
        "import seaborn as sns\n",
        "import plotly.express as px"
      ],
      "metadata": {
        "id": "_FqBqTEl4Bp1"
      },
      "execution_count": 195,
      "outputs": []
    },
    {
      "cell_type": "code",
      "execution_count": 208,
      "metadata": {
        "id": "gL3_hW1P35Mj"
      },
      "outputs": [],
      "source": [
        "df_vaca_1 = pd.read_csv('https://raw.githubusercontent.com/pritiyadav888/Housing-datasets/main/3410012801_databaseLoadingData.csv')\n",
        "df_vaca_2 = pd.read_csv('https://raw.githubusercontent.com/pritiyadav888/Housing-datasets/main/3410012901_databaseLoadingData.csv')\n",
        "df_popul_1 = pd.read_csv('https://raw.githubusercontent.com/pritiyadav888/Housing-datasets/main/Population%20estimates_1.csv')\n",
        "df_popul_2 = pd.read_csv('https://raw.githubusercontent.com/pritiyadav888/Housing-datasets/main/Population%20estimates_2.csv')"
      ]
    },
    {
      "cell_type": "code",
      "source": [
        "merged_vacan = pd.concat([df_vaca_1, df_vaca_2], join='inner')\n",
        "merged_vacan.info()"
      ],
      "metadata": {
        "colab": {
          "base_uri": "https://localhost:8080/"
        },
        "id": "x7Q88dXS_nWJ",
        "outputId": "d56ecb79-348a-407e-d262-9803cb8fc9b6"
      },
      "execution_count": 209,
      "outputs": [
        {
          "output_type": "stream",
          "name": "stdout",
          "text": [
            "<class 'pandas.core.frame.DataFrame'>\n",
            "Int64Index: 1503 entries, 0 to 1268\n",
            "Data columns (total 14 columns):\n",
            " #   Column         Non-Null Count  Dtype  \n",
            "---  ------         --------------  -----  \n",
            " 0   REF_DATE       1503 non-null   int64  \n",
            " 1   GEO            1503 non-null   object \n",
            " 2   DGUID          1503 non-null   object \n",
            " 3   UOM            1503 non-null   object \n",
            " 4   UOM_ID         1503 non-null   int64  \n",
            " 5   SCALAR_FACTOR  1503 non-null   object \n",
            " 6   SCALAR_ID      1503 non-null   int64  \n",
            " 7   VECTOR         1503 non-null   object \n",
            " 8   COORDINATE     1503 non-null   int64  \n",
            " 9   VALUE          1164 non-null   float64\n",
            " 10  STATUS         339 non-null    object \n",
            " 11  SYMBOL         0 non-null      float64\n",
            " 12  TERMINATED     0 non-null      float64\n",
            " 13  DECIMALS       1503 non-null   int64  \n",
            "dtypes: float64(3), int64(5), object(6)\n",
            "memory usage: 176.1+ KB\n"
          ]
        }
      ]
    },
    {
      "cell_type": "code",
      "source": [
        "merged_popul = pd.concat([df_popul_1, df_popul_2], join='inner')\n",
        "merged_popul.info()"
      ],
      "metadata": {
        "colab": {
          "base_uri": "https://localhost:8080/"
        },
        "id": "H_M1pzQWO3f0",
        "outputId": "d4f493bb-9ecc-4fe4-d72b-13419d86f1f4"
      },
      "execution_count": 210,
      "outputs": [
        {
          "output_type": "stream",
          "name": "stdout",
          "text": [
            "<class 'pandas.core.frame.DataFrame'>\n",
            "Int64Index: 2412 entries, 0 to 1601\n",
            "Data columns (total 16 columns):\n",
            " #   Column         Non-Null Count  Dtype  \n",
            "---  ------         --------------  -----  \n",
            " 0   REF_DATE       2412 non-null   int64  \n",
            " 1   GEO            2412 non-null   object \n",
            " 2   DGUID          2259 non-null   object \n",
            " 3   Sex            2412 non-null   object \n",
            " 4   Age group      2412 non-null   object \n",
            " 5   UOM            2412 non-null   object \n",
            " 6   UOM_ID         2412 non-null   int64  \n",
            " 7   SCALAR_FACTOR  2412 non-null   object \n",
            " 8   SCALAR_ID      2412 non-null   int64  \n",
            " 9   VECTOR         2412 non-null   object \n",
            " 10  COORDINATE     2412 non-null   object \n",
            " 11  VALUE          2412 non-null   int64  \n",
            " 12  STATUS         0 non-null      float64\n",
            " 13  SYMBOL         0 non-null      float64\n",
            " 14  TERMINATED     0 non-null      float64\n",
            " 15  DECIMALS       2412 non-null   int64  \n",
            "dtypes: float64(3), int64(5), object(8)\n",
            "memory usage: 320.3+ KB\n"
          ]
        }
      ]
    },
    {
      "cell_type": "code",
      "source": [
        "data_list = [df_vaca_1, df_vaca_2, df_popul_1, df_popul_2]"
      ],
      "metadata": {
        "id": "dc-eH0RC5vYN"
      },
      "execution_count": 211,
      "outputs": []
    },
    {
      "cell_type": "code",
      "source": [
        "for i, df in enumerate(data_list):\n",
        "    print(\"Dataset #{}: \".format(i))\n",
        "    print(df.info())\n"
      ],
      "metadata": {
        "colab": {
          "base_uri": "https://localhost:8080/"
        },
        "id": "Mb-5yLVl4EQi",
        "outputId": "684f6f05-efa0-487d-925d-734598f712c3"
      },
      "execution_count": 212,
      "outputs": [
        {
          "output_type": "stream",
          "name": "stdout",
          "text": [
            "Dataset #0: \n",
            "<class 'pandas.core.frame.DataFrame'>\n",
            "RangeIndex: 234 entries, 0 to 233\n",
            "Data columns (total 14 columns):\n",
            " #   Column         Non-Null Count  Dtype  \n",
            "---  ------         --------------  -----  \n",
            " 0   REF_DATE       234 non-null    int64  \n",
            " 1   GEO            234 non-null    object \n",
            " 2   DGUID          234 non-null    object \n",
            " 3   UOM            234 non-null    object \n",
            " 4   UOM_ID         234 non-null    int64  \n",
            " 5   SCALAR_FACTOR  234 non-null    object \n",
            " 6   SCALAR_ID      234 non-null    int64  \n",
            " 7   VECTOR         234 non-null    object \n",
            " 8   COORDINATE     234 non-null    int64  \n",
            " 9   VALUE          226 non-null    float64\n",
            " 10  STATUS         8 non-null      object \n",
            " 11  SYMBOL         0 non-null      float64\n",
            " 12  TERMINATED     0 non-null      float64\n",
            " 13  DECIMALS       234 non-null    int64  \n",
            "dtypes: float64(3), int64(5), object(6)\n",
            "memory usage: 25.7+ KB\n",
            "None\n",
            "Dataset #1: \n",
            "<class 'pandas.core.frame.DataFrame'>\n",
            "RangeIndex: 1269 entries, 0 to 1268\n",
            "Data columns (total 14 columns):\n",
            " #   Column         Non-Null Count  Dtype  \n",
            "---  ------         --------------  -----  \n",
            " 0   REF_DATE       1269 non-null   int64  \n",
            " 1   GEO            1269 non-null   object \n",
            " 2   DGUID          1269 non-null   object \n",
            " 3   UOM            1269 non-null   object \n",
            " 4   UOM_ID         1269 non-null   int64  \n",
            " 5   SCALAR_FACTOR  1269 non-null   object \n",
            " 6   SCALAR_ID      1269 non-null   int64  \n",
            " 7   VECTOR         1269 non-null   object \n",
            " 8   COORDINATE     1269 non-null   int64  \n",
            " 9   VALUE          938 non-null    float64\n",
            " 10  STATUS         331 non-null    object \n",
            " 11  SYMBOL         0 non-null      float64\n",
            " 12  TERMINATED     0 non-null      float64\n",
            " 13  DECIMALS       1269 non-null   int64  \n",
            "dtypes: float64(3), int64(5), object(6)\n",
            "memory usage: 138.9+ KB\n",
            "None\n",
            "Dataset #2: \n",
            "<class 'pandas.core.frame.DataFrame'>\n",
            "RangeIndex: 810 entries, 0 to 809\n",
            "Data columns (total 16 columns):\n",
            " #   Column         Non-Null Count  Dtype  \n",
            "---  ------         --------------  -----  \n",
            " 0   REF_DATE       810 non-null    int64  \n",
            " 1   GEO            810 non-null    object \n",
            " 2   DGUID          810 non-null    object \n",
            " 3   Sex            810 non-null    object \n",
            " 4   Age group      810 non-null    object \n",
            " 5   UOM            810 non-null    object \n",
            " 6   UOM_ID         810 non-null    int64  \n",
            " 7   SCALAR_FACTOR  810 non-null    object \n",
            " 8   SCALAR_ID      810 non-null    int64  \n",
            " 9   VECTOR         810 non-null    object \n",
            " 10  COORDINATE     810 non-null    object \n",
            " 11  VALUE          810 non-null    int64  \n",
            " 12  STATUS         0 non-null      float64\n",
            " 13  SYMBOL         0 non-null      float64\n",
            " 14  TERMINATED     0 non-null      float64\n",
            " 15  DECIMALS       810 non-null    int64  \n",
            "dtypes: float64(3), int64(5), object(8)\n",
            "memory usage: 101.4+ KB\n",
            "None\n",
            "Dataset #3: \n",
            "<class 'pandas.core.frame.DataFrame'>\n",
            "RangeIndex: 1602 entries, 0 to 1601\n",
            "Data columns (total 16 columns):\n",
            " #   Column         Non-Null Count  Dtype  \n",
            "---  ------         --------------  -----  \n",
            " 0   REF_DATE       1602 non-null   int64  \n",
            " 1   GEO            1602 non-null   object \n",
            " 2   DGUID          1449 non-null   object \n",
            " 3   Sex            1602 non-null   object \n",
            " 4   Age group      1602 non-null   object \n",
            " 5   UOM            1602 non-null   object \n",
            " 6   UOM_ID         1602 non-null   int64  \n",
            " 7   SCALAR_FACTOR  1602 non-null   object \n",
            " 8   SCALAR_ID      1602 non-null   int64  \n",
            " 9   VECTOR         1602 non-null   object \n",
            " 10  COORDINATE     1602 non-null   object \n",
            " 11  VALUE          1602 non-null   int64  \n",
            " 12  STATUS         0 non-null      float64\n",
            " 13  SYMBOL         0 non-null      float64\n",
            " 14  TERMINATED     0 non-null      float64\n",
            " 15  DECIMALS       1602 non-null   int64  \n",
            "dtypes: float64(3), int64(5), object(8)\n",
            "memory usage: 200.4+ KB\n",
            "None\n"
          ]
        }
      ]
    },
    {
      "cell_type": "code",
      "source": [
        "for unique_regions, df in enumerate(data_list):\n",
        "    print(\"Dataset #{}: \".format(unique_regions))\n",
        "    print(df['GEO'].unique())"
      ],
      "metadata": {
        "colab": {
          "base_uri": "https://localhost:8080/"
        },
        "id": "4Dz6cGRY4Gc0",
        "outputId": "9fc1a51e-e123-4a0c-fb0f-c33255b654f4"
      },
      "execution_count": 213,
      "outputs": [
        {
          "output_type": "stream",
          "name": "stdout",
          "text": [
            "Dataset #0: \n",
            "['Belleville, Ontario' 'Cape Breton, Nova Scotia'\n",
            " 'Charlottetown, Prince Edward Island' 'Chatham-Kent, Ontario'\n",
            " 'Chilliwack, British Columbia' 'Cornwall, Ontario'\n",
            " 'Drummondville, Quebec' 'Fredericton, New Brunswick' 'Granby, Quebec'\n",
            " 'Grande Prairie, Alberta' 'Kamloops, British Columbia'\n",
            " 'Kawartha Lakes, Ontario' 'Lethbridge, Alberta' 'Medicine Hat, Alberta'\n",
            " 'Nanaimo, British Columbia' 'Norfolk, Ontario' 'North Bay, Ontario'\n",
            " 'Prince George, British Columbia' 'Red Deer, Alberta'\n",
            " 'Saint-Hyacinthe, Quebec' 'Saint-Jean-sur-Richelieu, Quebec'\n",
            " 'Sarnia, Ontario' 'Sault Ste. Marie, Ontario' 'Shawinigan, Quebec'\n",
            " 'Vernon, British Columbia' 'Wood Buffalo, Alberta']\n",
            "Dataset #1: \n",
            "['Alma, Quebec' 'Amos, Quebec' 'Baie-Comeau, Quebec'\n",
            " 'Bathurst, New Brunswick' 'Bay Roberts, Newfoundland and Labrador'\n",
            " 'Bonnyville No. 87, Alberta' 'Bracebridge, Ontario' 'Brighton, Ontario'\n",
            " 'Brock, Ontario' 'Brockville, Ontario' 'Brooks, Alberta'\n",
            " 'Campbell River, British Columbia' 'Campbellton, New Brunswick/Quebec'\n",
            " 'Camrose, Alberta' 'Canmore, Alberta' 'Centre Wellington, Ontario'\n",
            " 'Chester, Nova Scotia' 'Clearwater County, Alberta' 'Cobourg, Ontario'\n",
            " 'Cold Lake, Alberta' 'Collingwood, Ontario'\n",
            " 'Corner Brook, Newfoundland and Labrador' 'Cowansville, Quebec'\n",
            " 'Cranbrook, British Columbia' 'Dawson Creek, British Columbia'\n",
            " 'Dolbeau-Mistassini, Quebec' 'Duncan, British Columbia'\n",
            " 'East Hants, Nova Scotia' 'Edmundston, New Brunswick'\n",
            " 'Elliot Lake, Ontario' 'Erin, Ontario' 'Essex, Ontario'\n",
            " 'Estevan, Saskatchewan' 'Foothills No. 13, Alberta'\n",
            " 'Fort St. John, British Columbia' 'Gander, Newfoundland and Labrador'\n",
            " 'Gaspé, Quebec' 'Grand Falls-Windsor, Newfoundland and Labrador'\n",
            " 'Gravenhurst, Ontario' 'Greater Napanee, Ontario' 'Haldimand, Ontario'\n",
            " 'Hanover, Manitoba' 'Hawkesbury, Ontario part, Ontario/Quebec'\n",
            " 'High River, Alberta' 'Huntsville, Ontario' 'Ingersoll, Ontario'\n",
            " 'Joliette, Quebec' 'Kenora, Ontario' 'Kentville, Nova Scotia'\n",
            " 'Kincardine, Ontario' 'Kings Subdivision, Ontario' 'La Tuque, Quebec'\n",
            " 'Lachute, Quebec' 'Lacombe, Alberta' 'Lacombe County, Alberta'\n",
            " 'Lambton Shores, Ontario' 'Leamington, Ontario'\n",
            " 'Les Îles-de-la-Madeleine, Quebec' 'Lloydminster, Saskatchewan/Alberta'\n",
            " 'Lunenburg, Nova Scotia' 'Mackenzie No. 23, Alberta' 'Matane, Quebec'\n",
            " 'Meaford, Ontario' 'Midland, Ontario' 'Miramichi, New Brunswick'\n",
            " 'Mississippi Mills, Ontario' 'Mont-Laurier, Quebec' 'Montmagny, Quebec'\n",
            " 'Moose Jaw, Saskatchewan' 'Mountain View County, Alberta'\n",
            " 'New Glasgow, Nova Scotia' 'North Battleford, Saskatchewan'\n",
            " 'North Grenville, Ontario' 'North Perth, Ontario' 'Okotoks, Alberta'\n",
            " 'Orillia, Ontario' 'Owen Sound, Ontario' 'Parksville, British Columbia'\n",
            " 'Pembroke, Ontario' 'Penticton, British Columbia' 'Petawawa, Ontario'\n",
            " 'Port Alberni, British Columbia' 'Port Hope, Ontario'\n",
            " 'Portage la Prairie, Manitoba' 'Powell River, British Columbia'\n",
            " 'Prévost, Quebec' 'Prince Albert, Saskatchewan' 'Prince Edward, Ontario'\n",
            " 'Prince Rupert, British Columbia' 'Queens, Nova Scotia'\n",
            " 'Quesnel, British Columbia' 'Rawdon, Quebec' 'Red Deer County, Alberta'\n",
            " 'Rivière-du-Loup, Quebec' 'Roberval, Quebec' 'Rouyn-Noranda, Quebec'\n",
            " 'Saint-Félicien, Quebec' 'Saint-Georges, Quebec'\n",
            " 'Saint-Lin--Laurentides, Quebec' 'Sainte-Adèle, Quebec'\n",
            " 'Sainte-Marie, Quebec' 'Sainte- Sophie, Quebec'\n",
            " 'Salmon Arm, British Columbia' 'Salaberry-de-Valleyfield, Quebec'\n",
            " 'Saugeen Shores, Ontario' 'Scugog, Ontario' 'Sept-Îles, Quebec'\n",
            " 'Sorel-Tracy, Quebec' 'Squamish, British Columbia' 'St. Andrews, Ontario'\n",
            " 'Steinbach, Manitoba' 'Stratford, Ontario' 'Strathmore, Alberta'\n",
            " 'Summerland, British Columbia' 'Summerside, Prince Edward Island'\n",
            " 'Swift Current, Saskatchewan' 'Sylvan Lake, Alberta'\n",
            " 'Temiskaming Shores, Ontario' 'Terrace, British Columbia'\n",
            " 'The Nation, Ontario' 'Thetford Mines, Quebec' 'Thompson, Manitoba'\n",
            " 'Tillsonburg, Ontario' 'Timmins, Ontario' 'Trent Hills, Ontario'\n",
            " 'Truro, Nova Scotia' \"Val-d'Or, Quebec\" 'Victoriaville, Quebec'\n",
            " 'Wasaga Beach, Ontario' 'West Grey, Ontario' 'West Hants, Nova Scotia'\n",
            " 'West Nipissing, Ontario' 'Wetaskiwin, Alberta'\n",
            " 'Wetaskiwin County No. 10, Alberta' 'Whitehorse, Yukon'\n",
            " 'Williams Lake, British Columbia' 'Woodstock, Ontario'\n",
            " 'Yarmouth, Nova Scotia' 'Yellowhead County, Alberta'\n",
            " 'Yellowknife, Northwest Territories' 'Yorkton, Saskatchewan']\n",
            "Dataset #2: \n",
            "['Canada' 'Newfoundland and Labrador'\n",
            " 'Avalon Peninsula, Newfoundland and Labrador'\n",
            " 'South Coast-Burin Peninsula, Newfoundland and Labrador'\n",
            " 'West Coast-Northern Peninsula-Labrador, Newfoundland and Labrador'\n",
            " 'Notre Dame-Central Bonavista Bay, Newfoundland and Labrador'\n",
            " 'Prince Edward Island' 'Prince Edward Island, Prince Edward Island'\n",
            " 'Nova Scotia' 'Cape Breton, Nova Scotia' 'North Shore, Nova Scotia'\n",
            " 'Annapolis Valley, Nova Scotia' 'Southern, Nova Scotia'\n",
            " 'Halifax, Nova Scotia' 'New Brunswick'\n",
            " 'Campbellton-Miramichi, New Brunswick'\n",
            " 'Moncton-Richibucto, New Brunswick'\n",
            " 'Saint John-St. Stephen, New Brunswick'\n",
            " 'Fredericton-Oromocto, New Brunswick'\n",
            " 'Edmundston-Woodstock, New Brunswick' 'Quebec'\n",
            " 'Gaspésie-Îles-de-la-Madeleine, Quebec' 'Bas-Saint-Laurent, Quebec'\n",
            " 'Capitale-Nationale, Quebec' 'Chaudière-Appalaches, Quebec'\n",
            " 'Estrie, Quebec' 'Centre-du-Québec, Quebec' 'Montérégie, Quebec'\n",
            " 'Montréal, Quebec' 'Laval, Quebec' 'Lanaudière, Quebec'\n",
            " 'Laurentides, Quebec' 'Outaouais, Quebec' 'Abitibi-Témiscamingue, Quebec'\n",
            " 'Mauricie, Quebec' 'Saguenay-Lac-Saint-Jean, Quebec' 'Côte-Nord, Quebec'\n",
            " 'Nord-du-Québec, Quebec' 'Ontario' 'Ottawa, Ontario'\n",
            " 'Kingston-Pembroke, Ontario' 'Muskoka-Kawarthas, Ontario'\n",
            " 'Toronto, Ontario' 'Kitchener-Waterloo-Barrie, Ontario'\n",
            " 'Hamilton-Niagara Peninsula, Ontario' 'London, Ontario'\n",
            " 'Windsor-Sarnia, Ontario' 'Stratford-Bruce Peninsula, Ontario'\n",
            " 'Northeast, Ontario' 'Northwest, Ontario' 'Manitoba'\n",
            " 'Southeast, Manitoba' 'South Central, Manitoba' 'Southwest, Manitoba'\n",
            " 'North Central, Manitoba' 'Winnipeg, Manitoba' 'Interlake, Manitoba'\n",
            " 'Parklands, Manitoba' 'North, Manitoba' 'Saskatchewan'\n",
            " 'Regina-Moose Mountain, Saskatchewan'\n",
            " 'Swift Current-Moose Jaw, Saskatchewan' 'Saskatoon-Biggar, Saskatchewan'\n",
            " 'Yorkton-Melville, Saskatchewan' 'Prince Albert, Saskatchewan'\n",
            " 'Northern, Saskatchewan' 'Alberta' 'Lethbridge-Medicine Hat, Alberta'\n",
            " 'Camrose-Drumheller, Alberta' 'Calgary, Alberta'\n",
            " 'Banff-Jasper-Rocky Mountain House, Alberta' 'Red Deer, Alberta'\n",
            " 'Edmonton, Alberta' 'Athabasca-Grande Prairie-Peace River, Alberta'\n",
            " 'Wood Buffalo-Cold Lake, Alberta' 'British Columbia'\n",
            " 'Vancouver Island and Coast, British Columbia'\n",
            " 'Lower Mainland-Southwest, British Columbia'\n",
            " 'Thompson-Okanagan, British Columbia' 'Kootenay, British Columbia'\n",
            " 'Cariboo, British Columbia' 'North Coast, British Columbia'\n",
            " 'Nechako, British Columbia' 'Northeast, British Columbia' 'Yukon'\n",
            " 'Yukon, Yukon' 'Northwest Territories'\n",
            " 'Northwest Territories, Northwest Territories' 'Nunavut'\n",
            " 'Nunavut, Nunavut']\n",
            "Dataset #3: \n",
            "['Canada'\n",
            " 'All census metropolitan areas and census agglomerations, Canada'\n",
            " 'All census metropolitan areas, Canada'\n",
            " \"St. John's (CMA), Newfoundland and Labrador\"\n",
            " 'Halifax (CMA), Nova Scotia' 'Moncton (CMA), New Brunswick'\n",
            " 'Saint John (CMA), New Brunswick' 'Saguenay (CMA), Quebec'\n",
            " 'Québec (CMA), Quebec' 'Sherbrooke (CMA), Quebec'\n",
            " 'Trois-Rivières (CMA), Quebec' 'Montréal (CMA), Quebec'\n",
            " 'Ottawa - Gatineau (CMA), Ontario/Quebec'\n",
            " 'Ottawa - Gatineau (CMA), Ontario part, Ontario'\n",
            " 'Ottawa - Gatineau (CMA), Quebec part, Quebec' 'Kingston (CMA), Ontario'\n",
            " 'Belleville (CMA), Ontario' 'Peterborough (CMA), Ontario'\n",
            " 'Oshawa (CMA), Ontario' 'Toronto (CMA), Ontario'\n",
            " 'Hamilton (CMA), Ontario' 'St. Catharines - Niagara (CMA), Ontario'\n",
            " 'Kitchener - Cambridge - Waterloo (CMA), Ontario'\n",
            " 'Brantford (CMA), Ontario' 'Guelph (CMA), Ontario'\n",
            " 'London (CMA), Ontario' 'Windsor (CMA), Ontario' 'Barrie (CMA), Ontario'\n",
            " 'Greater Sudbury (CMA), Ontario' 'Thunder Bay (CMA), Ontario'\n",
            " 'Winnipeg (CMA), Manitoba' 'Regina (CMA), Saskatchewan'\n",
            " 'Saskatoon (CMA), Saskatchewan' 'Lethbridge (CMA), Alberta'\n",
            " 'Calgary (CMA), Alberta' 'Edmonton (CMA), Alberta'\n",
            " 'Kelowna (CMA), British Columbia'\n",
            " 'Abbotsford - Mission (CMA), British Columbia'\n",
            " 'Vancouver (CMA), British Columbia' 'Victoria (CMA), British Columbia'\n",
            " 'All census agglomerations, Canada'\n",
            " 'Bay Roberts (CA), Newfoundland and Labrador'\n",
            " 'Grand Falls-Windsor (CA), Newfoundland and Labrador'\n",
            " 'Gander (CA), Newfoundland and Labrador'\n",
            " 'Corner Brook (CA), Newfoundland and Labrador'\n",
            " 'Charlottetown (CA), Prince Edward Island'\n",
            " 'Summerside (CA), Prince Edward Island' 'Kentville (CA), Nova Scotia'\n",
            " 'Truro (CA), Nova Scotia' 'New Glasgow (CA), Nova Scotia'\n",
            " 'Cape Breton (CA), Nova Scotia' 'Fredericton (CA), New Brunswick'\n",
            " 'Bathurst (CA), New Brunswick' 'Miramichi (CA), New Brunswick'\n",
            " 'Edmundston (CA), New Brunswick' 'Campbellton (CA), New Brunswick/Quebec'\n",
            " 'Campbellton (CA), New Brunswick part, New Brunswick'\n",
            " 'Campbellton (CA), Quebec part, Quebec' 'Matane (CA), Quebec'\n",
            " 'Rimouski (CA), Quebec' 'Rivière-du-Loup (CA), Quebec'\n",
            " 'Baie-Comeau (CA), Quebec' 'Alma (CA), Quebec'\n",
            " 'Dolbeau-Mistassini (CA), Quebec' 'Sept-Îles (CA), Quebec'\n",
            " 'Sainte-Marie (CA), Quebec' 'Saint-Georges (CA), Quebec'\n",
            " 'Thetford Mines (CA), Quebec' 'Cowansville (CA), Quebec'\n",
            " 'Victoriaville (CA), Quebec' 'Shawinigan (CA), Quebec'\n",
            " 'Drummondville (CA), Quebec' 'Granby (CA), Quebec'\n",
            " 'Saint-Hyacinthe (CA), Quebec' 'Sorel-Tracy (CA), Quebec'\n",
            " 'Joliette (CA), Quebec' 'Salaberry-de-Valleyfield (CA), Quebec'\n",
            " 'Lachute (CA), Quebec' \"Val-d'Or (CA), Quebec\"\n",
            " 'Rouyn-Noranda (CA), Quebec' 'Hawkesbury (CA), Ontario/Quebec'\n",
            " 'Hawkesbury (CA), Ontario part, Ontario'\n",
            " 'Hawkesbury (CA), Quebec part, Quebec' 'Cornwall (CA), Ontario'\n",
            " 'Arnprior (CA), Ontario' 'Carleton Place (CA), Ontario'\n",
            " 'Brockville (CA), Ontario' 'Pembroke (CA), Ontario'\n",
            " 'Petawawa (CA), Ontario' 'Cobourg (CA), Ontario'\n",
            " 'Port Hope (CA), Ontario' 'Kawartha Lakes (CA), Ontario'\n",
            " 'Centre Wellington (CA), Ontario' 'Ingersoll (CA), Ontario'\n",
            " 'Woodstock (CA), Ontario' 'Tillsonburg (CA), Ontario'\n",
            " 'Norfolk (CA), Ontario' 'Stratford (CA), Ontario'\n",
            " 'Chatham-Kent (CA), Ontario' 'Leamington (CA), Ontario'\n",
            " 'Sarnia (CA), Ontario' 'Wasaga Beach (CA), Ontario'\n",
            " 'Owen Sound (CA), Ontario' 'Collingwood (CA), Ontario'\n",
            " 'Orillia (CA), Ontario' 'Midland (CA), Ontario' 'North Bay (CA), Ontario'\n",
            " 'Elliot Lake (CA), Ontario' 'Timmins (CA), Ontario'\n",
            " 'Sault Ste. Marie (CA), Ontario' 'Kenora (CA), Ontario'\n",
            " 'Winkler (CA), Manitoba' 'Steinbach (CA), Manitoba'\n",
            " 'Portage la Prairie (CA), Manitoba' 'Brandon (CA), Manitoba'\n",
            " 'Thompson (CA), Manitoba' 'Yorkton (CA), Saskatchewan'\n",
            " 'Moose Jaw (CA), Saskatchewan' 'Swift Current (CA), Saskatchewan'\n",
            " 'North Battleford (CA), Saskatchewan' 'Prince Albert (CA), Saskatchewan'\n",
            " 'Estevan (CA), Saskatchewan' 'Weyburn (CA), Saskatchewan'\n",
            " 'Lloydminster (CA), Alberta/Saskatchewan'\n",
            " 'Lloydminster (CA), Alberta part, Alberta'\n",
            " 'Lloydminster (CA), Saskatchewan part, Saskatchewan'\n",
            " 'Medicine Hat (CA), Alberta' 'Brooks (CA), Alberta'\n",
            " 'Okotoks (CA), Alberta' 'High River (CA), Alberta'\n",
            " 'Strathmore (CA), Alberta' 'Canmore (CA), Alberta'\n",
            " 'Red Deer (CA), Alberta' 'Sylvan Lake (CA), Alberta'\n",
            " 'Lacombe (CA), Alberta' 'Camrose (CA), Alberta' 'Cold Lake (CA), Alberta'\n",
            " 'Grande Prairie (CA), Alberta' 'Wood Buffalo (CA), Alberta'\n",
            " 'Wetaskiwin (CA), Alberta' 'Cranbrook (CA), British Columbia'\n",
            " 'Nelson (CA), British Columbia' 'Penticton (CA), British Columbia'\n",
            " 'Vernon (CA), British Columbia' 'Salmon Arm (CA), British Columbia'\n",
            " 'Kamloops (CA), British Columbia' 'Chilliwack (CA), British Columbia'\n",
            " 'Squamish (CA), British Columbia' 'Duncan (CA), British Columbia'\n",
            " 'Nanaimo (CA), British Columbia' 'Parksville (CA), British Columbia'\n",
            " 'Port Alberni (CA), British Columbia' 'Courtenay (CA), British Columbia'\n",
            " 'Campbell River (CA), British Columbia'\n",
            " 'Powell River (CA), British Columbia'\n",
            " 'Williams Lake (CA), British Columbia' 'Quesnel (CA), British Columbia'\n",
            " 'Prince Rupert (CA), British Columbia' 'Terrace (CA), British Columbia'\n",
            " 'Prince George (CA), British Columbia'\n",
            " 'Dawson Creek (CA), British Columbia'\n",
            " 'Fort St. John (CA), British Columbia' 'Whitehorse (CA), Yukon'\n",
            " 'Yellowknife (CA), Northwest Territories'\n",
            " 'All areas outside census metropolitan areas and census agglomerations, Canada'\n",
            " 'Area outside census metropolitan areas and census agglomerations, Newfoundland and Labrador'\n",
            " 'Area outside census metropolitan areas and census agglomerations, Prince Edward Island'\n",
            " 'Area outside census metropolitan areas and census agglomerations, Nova Scotia'\n",
            " 'Area outside census metropolitan areas and census agglomerations, New Brunswick'\n",
            " 'Area outside census metropolitan areas and census agglomerations, Quebec'\n",
            " 'Area outside census metropolitan areas and census agglomerations, Ontario'\n",
            " 'Area outside census metropolitan areas and census agglomerations, Manitoba'\n",
            " 'Area outside census metropolitan areas and census agglomerations, Saskatchewan'\n",
            " 'Area outside census metropolitan areas and census agglomerations, Alberta'\n",
            " 'Area outside census metropolitan areas and census agglomerations, British Columbia'\n",
            " 'Area outside census metropolitan areas and census agglomerations, Yukon'\n",
            " 'Area outside census metropolitan areas and census agglomerations, Northwest Territories'\n",
            " 'Area outside census metropolitan areas and census agglomerations, Nunavut']\n"
          ]
        }
      ]
    },
    {
      "cell_type": "code",
      "source": [
        "for unique_regions, df in enumerate(data_list):\n",
        "    print(\"Dataset #{}: \".format(unique_regions))\n",
        "    print(df['GEO'].nunique())"
      ],
      "metadata": {
        "colab": {
          "base_uri": "https://localhost:8080/"
        },
        "id": "MyrIXnhM6hGH",
        "outputId": "2a2d7ab6-5536-4549-a1f0-6b72ada49267"
      },
      "execution_count": 214,
      "outputs": [
        {
          "output_type": "stream",
          "name": "stdout",
          "text": [
            "Dataset #0: \n",
            "26\n",
            "Dataset #1: \n",
            "141\n",
            "Dataset #2: \n",
            "90\n",
            "Dataset #3: \n",
            "178\n"
          ]
        }
      ]
    },
    {
      "cell_type": "code",
      "source": [
        "for data, df in enumerate(data_list):\n",
        "    print(\"Dataset #{}: \".format(data))\n",
        "    print(df.iloc[22])"
      ],
      "metadata": {
        "colab": {
          "base_uri": "https://localhost:8080/"
        },
        "id": "aMnKBx1464tn",
        "outputId": "1171447b-12c3-48d9-9181-60afc66a2ffb"
      },
      "execution_count": 215,
      "outputs": [
        {
          "output_type": "stream",
          "name": "stdout",
          "text": [
            "Dataset #0: \n",
            "REF_DATE                                        2018\n",
            "GEO              Charlottetown, Prince Edward Island\n",
            "DGUID                                   2011S0504105\n",
            "UOM                                             Rate\n",
            "UOM_ID                                           257\n",
            "SCALAR_FACTOR                                  units\n",
            "SCALAR_ID                                          0\n",
            "VECTOR                                       v733390\n",
            "COORDINATE                                         7\n",
            "VALUE                                            0.1\n",
            "STATUS                                           NaN\n",
            "SYMBOL                                           NaN\n",
            "TERMINATED                                       NaN\n",
            "DECIMALS                                           1\n",
            "Name: 22, dtype: object\n",
            "Dataset #1: \n",
            "REF_DATE                        2018\n",
            "GEO              Baie-Comeau, Quebec\n",
            "DGUID                   2011S0504406\n",
            "UOM                             Rate\n",
            "UOM_ID                           257\n",
            "SCALAR_FACTOR                  units\n",
            "SCALAR_ID                          0\n",
            "VECTOR                       v733407\n",
            "COORDINATE                         3\n",
            "VALUE                            6.6\n",
            "STATUS                           NaN\n",
            "SYMBOL                           NaN\n",
            "TERMINATED                       NaN\n",
            "DECIMALS                           1\n",
            "Name: 22, dtype: object\n",
            "Dataset #2: \n",
            "REF_DATE                                                2018\n",
            "GEO              Avalon Peninsula, Newfoundland and Labrador\n",
            "DGUID                                          2016S05001010\n",
            "Sex                                               Both sexes\n",
            "Age group                                           All ages\n",
            "UOM                                                  Persons\n",
            "UOM_ID                                                   249\n",
            "SCALAR_FACTOR                                          units\n",
            "SCALAR_ID                                                  0\n",
            "VECTOR                                           v1061305111\n",
            "COORDINATE                                             2.1.1\n",
            "VALUE                                                 276607\n",
            "STATUS                                                   NaN\n",
            "SYMBOL                                                   NaN\n",
            "TERMINATED                                               NaN\n",
            "DECIMALS                                                   0\n",
            "Name: 22, dtype: object\n",
            "Dataset #3: \n",
            "REF_DATE                                          2018\n",
            "GEO              All census metropolitan areas, Canada\n",
            "DGUID                                              NaN\n",
            "Sex                                         Both sexes\n",
            "Age group                                     All ages\n",
            "UOM                                            Persons\n",
            "UOM_ID                                             249\n",
            "SCALAR_FACTOR                                    units\n",
            "SCALAR_ID                                            0\n",
            "VECTOR                                     v1078828973\n",
            "COORDINATE                                     162.1.1\n",
            "VALUE                                         26495266\n",
            "STATUS                                             NaN\n",
            "SYMBOL                                             NaN\n",
            "TERMINATED                                         NaN\n",
            "DECIMALS                                             0\n",
            "Name: 22, dtype: object\n"
          ]
        }
      ]
    },
    {
      "cell_type": "code",
      "source": [
        "# Rename columns for better understanding\n",
        "def rename_columns(df):\n",
        "    return df.rename(columns={'VALUE': 'value', 'GEO': 'geo', 'REF_DATE': 'year'})"
      ],
      "metadata": {
        "id": "xS3-0AlOUG5A"
      },
      "execution_count": 216,
      "outputs": []
    },
    {
      "cell_type": "code",
      "source": [
        "merged_vacan = merged_vacan.rename(columns={'VALUE': 'value', 'GEO': 'geo', 'REF_DATE': 'year'})\n",
        "merged_popul = merged_popul.rename(columns={'VALUE': 'value', 'GEO': 'geo', 'REF_DATE': 'year'})"
      ],
      "metadata": {
        "id": "Jno_GRKRV7R0"
      },
      "execution_count": 218,
      "outputs": []
    },
    {
      "cell_type": "code",
      "source": [
        "merged_vacan.columns"
      ],
      "metadata": {
        "colab": {
          "base_uri": "https://localhost:8080/"
        },
        "id": "q7dZ5shHVxBx",
        "outputId": "8226efd6-440a-45ef-effb-4d06189ef04b"
      },
      "execution_count": 219,
      "outputs": [
        {
          "output_type": "execute_result",
          "data": {
            "text/plain": [
              "Index(['year', 'geo', 'DGUID', 'UOM', 'UOM_ID', 'SCALAR_FACTOR', 'SCALAR_ID',\n",
              "       'VECTOR', 'COORDINATE', 'value', 'STATUS', 'SYMBOL', 'TERMINATED',\n",
              "       'DECIMALS'],\n",
              "      dtype='object')"
            ]
          },
          "metadata": {},
          "execution_count": 219
        }
      ]
    },
    {
      "cell_type": "code",
      "source": [
        "merged_popul.columns"
      ],
      "metadata": {
        "colab": {
          "base_uri": "https://localhost:8080/"
        },
        "id": "FWatmkbWVzOt",
        "outputId": "7e609c04-f98f-481b-d49b-186e8934a521"
      },
      "execution_count": 220,
      "outputs": [
        {
          "output_type": "execute_result",
          "data": {
            "text/plain": [
              "Index(['year', 'geo', 'DGUID', 'Sex', 'Age group', 'UOM', 'UOM_ID',\n",
              "       'SCALAR_FACTOR', 'SCALAR_ID', 'VECTOR', 'COORDINATE', 'value', 'STATUS',\n",
              "       'SYMBOL', 'TERMINATED', 'DECIMALS'],\n",
              "      dtype='object')"
            ]
          },
          "metadata": {},
          "execution_count": 220
        }
      ]
    },
    {
      "cell_type": "code",
      "source": [
        "vacancy_rates = merged_vacan.groupby('year')['value'].mean()\n",
        "vacancy_rates"
      ],
      "metadata": {
        "colab": {
          "base_uri": "https://localhost:8080/"
        },
        "id": "HCSBBiX1WMqW",
        "outputId": "69c54221-8296-4946-d318-7e580a01c224"
      },
      "execution_count": 221,
      "outputs": [
        {
          "output_type": "execute_result",
          "data": {
            "text/plain": [
              "year\n",
              "2014    4.553676\n",
              "2015    5.143284\n",
              "2016    5.515441\n",
              "2017    4.777419\n",
              "2018    4.017829\n",
              "2019    4.001527\n",
              "2020    3.441463\n",
              "2021    2.799194\n",
              "2022    2.307087\n",
              "Name: value, dtype: float64"
            ]
          },
          "metadata": {},
          "execution_count": 221
        }
      ]
    },
    {
      "cell_type": "code",
      "source": [
        "population_rates = merged_popul.groupby('year')['value'].mean()\n",
        "population_rates"
      ],
      "metadata": {
        "colab": {
          "base_uri": "https://localhost:8080/"
        },
        "id": "NXCKG9irWVrn",
        "outputId": "e4ee65e9-e524-4b01-d3c9-844d9ecf6fae"
      },
      "execution_count": 222,
      "outputs": [
        {
          "output_type": "execute_result",
          "data": {
            "text/plain": [
              "year\n",
              "2014    908363.231343\n",
              "2015    915297.186567\n",
              "2016    925892.477612\n",
              "2017    937324.503731\n",
              "2018    950914.988806\n",
              "2019    964929.313433\n",
              "2020    975519.432836\n",
              "2021    981070.246269\n",
              "2022    999296.563433\n",
              "Name: value, dtype: float64"
            ]
          },
          "metadata": {},
          "execution_count": 222
        }
      ]
    },
    {
      "cell_type": "code",
      "source": [
        "plt.bar(vacancy_rates.index, vacancy_rates.values)\n",
        "plt.xlabel('Year')\n",
        "plt.ylabel('Vacancy Rate')\n",
        "plt.title('Trend in Vacancy Rates')\n",
        "plt.show()"
      ],
      "metadata": {
        "colab": {
          "base_uri": "https://localhost:8080/",
          "height": 573
        },
        "id": "Mmo3vq7FW4D5",
        "outputId": "9c17373e-5259-44e6-bb5e-dde5037c79ba"
      },
      "execution_count": 223,
      "outputs": [
        {
          "output_type": "display_data",
          "data": {
            "text/plain": [
              "<Figure size 1000x600 with 1 Axes>"
            ],
            "image/png": "[encoded data removed]"
          },
          "metadata": {}
        }
      ]
    },
    {
      "cell_type": "code",
      "source": [
        "plt.bar(population_rates.index, population_rates.values)\n",
        "plt.xlabel('Year')\n",
        "plt.ylabel('Population Rate')\n",
        "plt.title('Trend in Population Rates')\n",
        "plt.show()"
      ],
      "metadata": {
        "colab": {
          "base_uri": "https://localhost:8080/",
          "height": 573
        },
        "id": "LdALR9wBmvR0",
        "outputId": "a43ea801-11ef-431b-cdfc-8990213e38f5"
      },
      "execution_count": 225,
      "outputs": [
        {
          "output_type": "display_data",
          "data": {
            "text/plain": [
              "<Figure size 1000x600 with 1 Axes>"
            ],
            "image/png": "[encoded data removed]"
          },
          "metadata": {}
        }
      ]
    },
    {
      "cell_type": "code",
      "source": [
        "# Normalize the values to make them comparable\n",
        "normalized_vacancy_rates = (vacancy_rates - vacancy_rates.min()) / (vacancy_rates.max() - vacancy_rates.min())\n",
        "normalized_population_rates = (population_rates - population_rates.min()) / (population_rates.max() - population_rates.min())\n",
        "\n",
        "# Plot the time series\n",
        "plt.figure(figsize=(10, 6))\n",
        "plt.plot(normalized_vacancy_rates, label='Vacancy Rates')\n",
        "plt.plot(normalized_population_rates, label='Population')\n",
        "\n",
        "plt.xlabel('Year')\n",
        "plt.ylabel('Normalized Value')\n",
        "plt.title('Time Series Visualization of Average Values by Year')\n",
        "plt.legend()\n",
        "\n",
        "plt.show()"
      ],
      "metadata": {
        "colab": {
          "base_uri": "https://localhost:8080/",
          "height": 573
        },
        "id": "ZKCFOtLvXLDZ",
        "outputId": "66b26667-e7cf-4fc6-af19-654d9a03c536"
      },
      "execution_count": 227,
      "outputs": [
        {
          "output_type": "display_data",
          "data": {
            "text/plain": [
              "<Figure size 1000x600 with 1 Axes>"
            ],
            "image/png": "[encoded data removed]"
          },
          "metadata": {}
        }
      ]
    },
    {
      "cell_type": "code",
      "source": [
        "# Drop unnecessary columns\n",
        "def drop_columns(df):\n",
        "  # Drop unnecessary columns\n",
        "    columns_to_drop = ['STATUS', 'SYMBOL', 'TERMINATED', 'DECIMALS']\n",
        "    return df.drop(columns=columns_to_drop, errors='ignore')\n",
        "\n",
        "merged_vacan = drop_columns(merged_vacan)\n",
        "merged_popul = drop_columns(merged_popul)"
      ],
      "metadata": {
        "id": "rdEL-E0iUMQy"
      },
      "execution_count": 228,
      "outputs": []
    },
    {
      "cell_type": "code",
      "source": [
        "# Check for missing values\n",
        "print(\"Missing values in merged_vacan:\", merged_vacan['value'].isna().sum())\n",
        "print(\"Missing values in merged_popul:\", merged_popul['value'].isna().sum())\n",
        "\n",
        "# Handle missing values (fillna with 0 - change this to another method if you prefer)\n",
        "merged_vacan['value'].fillna(0, inplace=True)"
      ],
      "metadata": {
        "colab": {
          "base_uri": "https://localhost:8080/"
        },
        "id": "p6GDtJtlUPHN",
        "outputId": "c0db3fc5-f8c6-445e-f835-0fd9cc2c45a0"
      },
      "execution_count": 230,
      "outputs": [
        {
          "output_type": "stream",
          "name": "stdout",
          "text": [
            "Missing values in merged_vacan: 0\n",
            "Missing values in merged_popul: 0\n"
          ]
        }
      ]
    },
    {
      "cell_type": "code",
      "source": [
        "# Descriptive statistics\n",
        "print(merged_vacan.describe())\n",
        "print(merged_popul.describe())"
      ],
      "metadata": {
        "colab": {
          "base_uri": "https://localhost:8080/"
        },
        "id": "VI1mbOwfU0nv",
        "outputId": "f074059d-b3a9-46a0-82b0-8566e5c6a208"
      },
      "execution_count": 231,
      "outputs": [
        {
          "output_type": "stream",
          "name": "stdout",
          "text": [
            "              year  UOM_ID  SCALAR_ID   COORDINATE        value\n",
            "count  1503.000000  1503.0     1503.0  1503.000000  1503.000000\n",
            "mean   2018.000000   257.0        0.0    76.958084     3.164937\n",
            "std       2.582848     0.0        0.0    50.678633     4.176595\n",
            "min    2014.000000   257.0        0.0     1.000000     0.000000\n",
            "25%    2016.000000   257.0        0.0    29.000000     0.000000\n",
            "50%    2018.000000   257.0        0.0    73.000000     1.800000\n",
            "75%    2020.000000   257.0        0.0   124.000000     4.350000\n",
            "max    2022.000000   257.0        0.0   165.000000    30.800000\n",
            "              year  UOM_ID  SCALAR_ID         value\n",
            "count  2412.000000  2412.0     2412.0  2.412000e+03\n",
            "mean   2018.000000   249.0        0.0  9.509564e+05\n",
            "std       2.582524     0.0        0.0  4.194443e+06\n",
            "min    2014.000000   249.0        0.0  1.690000e+03\n",
            "25%    2016.000000   249.0        0.0  2.966025e+04\n",
            "50%    2018.000000   249.0        0.0  9.043050e+04\n",
            "75%    2020.000000   249.0        0.0  3.202048e+05\n",
            "max    2022.000000   249.0        0.0  3.892990e+07\n"
          ]
        }
      ]
    },
    {
      "cell_type": "code",
      "source": [
        "# Calculate average vacancy rates before and after 2019\n",
        "before_covid = merged_vacan[merged_vacan['year'] < 2019]\n",
        "after_covid = merged_vacan[merged_vacan['year'] >= 2019]\n",
        "\n",
        "avg_vacancy_before_covid = before_covid['value'].mean()\n",
        "avg_vacancy_after_covid = after_covid['value'].mean()\n",
        "\n",
        "change_in_vacancy = avg_vacancy_after_covid - avg_vacancy_before_covid\n",
        "\n",
        "print(\"Average vacancy rate before COVID-19:\", avg_vacancy_before_covid)\n",
        "print(\"Average vacancy rate after COVID-19:\", avg_vacancy_after_covid)\n",
        "print(\"Change in vacancy rate:\", change_in_vacancy)"
      ],
      "metadata": {
        "colab": {
          "base_uri": "https://localhost:8080/"
        },
        "id": "38LunH4JVj8P",
        "outputId": "ef037f6b-d523-40aa-b8ec-4af49ad190ad"
      },
      "execution_count": 232,
      "outputs": [
        {
          "output_type": "stream",
          "name": "stdout",
          "text": [
            "Average vacancy rate before COVID-19: 3.7955688622754487\n",
            "Average vacancy rate after COVID-19: 2.3766467065868264\n",
            "Change in vacancy rate: -1.4189221556886222\n"
          ]
        }
      ]
    },
    {
      "cell_type": "code",
      "source": [
        "# Group by 'year' and 'GEO' columns, then calculate the mean of 'value' column\n",
        "avg_yearly_population_by_region = merged_popul.groupby(['year', 'geo'])['value'].mean()\n",
        "\n",
        "# Display the average yearly income by region\n",
        "print(avg_yearly_population_by_region)"
      ],
      "metadata": {
        "colab": {
          "base_uri": "https://localhost:8080/"
        },
        "id": "7Mu51Ri1aQVX",
        "outputId": "a7ddba8f-ac1c-4c71-bc20-2bc17a6d2ee3"
      },
      "execution_count": 233,
      "outputs": [
        {
          "output_type": "stream",
          "name": "stdout",
          "text": [
            "year  geo                                                                          \n",
            "2014  Abbotsford - Mission (CMA), British Columbia                                      180615.0\n",
            "      Abitibi-Témiscamingue, Quebec                                                     147734.0\n",
            "      Alberta                                                                          4083648.0\n",
            "      All areas outside census metropolitan areas and census agglomerations, Canada    6011922.0\n",
            "      All census agglomerations, Canada                                                4341356.0\n",
            "                                                                                         ...    \n",
            "2022  Yellowknife (CA), Northwest Territories                                            22983.0\n",
            "      Yorkton (CA), Saskatchewan                                                         19399.0\n",
            "      Yorkton-Melville, Saskatchewan                                                     84340.0\n",
            "      Yukon                                                                              43789.0\n",
            "      Yukon, Yukon                                                                       43789.0\n",
            "Name: value, Length: 2403, dtype: float64\n"
          ]
        }
      ]
    },
    {
      "cell_type": "code",
      "source": [
        "# Filter the average yearly population data for the years before and after 2019\n",
        "population_before_2019 = avg_yearly_population_by_region.loc[2014:2018].groupby('geo').mean()\n",
        "population_after_2019 = avg_yearly_population_by_region.loc[2019:].groupby('geo').mean()\n",
        "\n",
        "# Calculate the percentage change between these two periods for each region\n",
        "population_change_percentage = ((population_after_2019 - population_before_2019) / population_before_2019) * 100\n",
        "\n",
        "# Display the population increment and decrement percentage for each region\n",
        "print(population_change_percentage)"
      ],
      "metadata": {
        "colab": {
          "base_uri": "https://localhost:8080/"
        },
        "id": "3EHrwkljavmA",
        "outputId": "c0209b0d-8f71-41de-9b76-9a754fdc75a2"
      },
      "execution_count": 234,
      "outputs": [
        {
          "output_type": "stream",
          "name": "stdout",
          "text": [
            "geo\n",
            "Abbotsford - Mission (CMA), British Columbia                                      8.627770\n",
            "Abitibi-Témiscamingue, Quebec                                                     0.368213\n",
            "Alberta                                                                           5.934591\n",
            "All areas outside census metropolitan areas and census agglomerations, Canada     2.156288\n",
            "All census agglomerations, Canada                                                 4.122762\n",
            "                                                                                   ...    \n",
            "Yellowknife (CA), Northwest Territories                                           7.237381\n",
            "Yorkton (CA), Saskatchewan                                                        0.034690\n",
            "Yorkton-Melville, Saskatchewan                                                   -1.844062\n",
            "Yukon                                                                            10.181754\n",
            "Yukon, Yukon                                                                     10.181754\n",
            "Name: value, Length: 267, dtype: float64\n"
          ]
        }
      ]
    },
    {
      "cell_type": "code",
      "source": [
        "# Filter the average yearly population data for the years before and after 2019\n",
        "population_before_2019 = avg_yearly_population_by_region.loc[2014:2018].groupby('geo').mean()\n",
        "population_after_2019 = avg_yearly_population_by_region.loc[2019:].groupby('geo').mean()\n",
        "\n",
        "# Calculate the percentage change between these two periods for each region\n",
        "population_change_percentage = ((population_after_2019 - population_before_2019) / population_before_2019) * 100\n",
        "\n",
        "# Convert the population increment and decrement percentage for each region to a dictionary\n",
        "population_change_percentage_dict = population_change_percentage.to_dict()\n",
        "\n",
        "# Display the population increment and decrement percentages with region names, in a vertical format\n",
        "for region, percentage in population_change_percentage_dict.items():\n",
        "    print(f\"{region}: {percentage}\")\n"
      ],
      "metadata": {
        "colab": {
          "base_uri": "https://localhost:8080/"
        },
        "id": "XnswMlqFYaX1",
        "outputId": "1dc16655-fbb5-43ec-e15b-a6a2d0a8b297"
      },
      "execution_count": 235,
      "outputs": [
        {
          "output_type": "stream",
          "name": "stdout",
          "text": [
            "Abbotsford - Mission (CMA), British Columbia: 8.627769799855875\n",
            "Abitibi-Témiscamingue, Quebec: 0.36821332306507115\n",
            "Alberta: 5.934591308972825\n",
            "All areas outside census metropolitan areas and census agglomerations, Canada: 2.1562884618119793\n",
            "All census agglomerations, Canada: 4.12276217620391\n",
            "All census metropolitan areas and census agglomerations, Canada: 6.26973995540249\n",
            "All census metropolitan areas, Canada: 6.637479776479456\n",
            "Alma (CA), Quebec: 0.3009727000770547\n",
            "Annapolis Valley, Nova Scotia: 2.4077868040733974\n",
            "Area outside census metropolitan areas and census agglomerations, Alberta: -0.1782402501059771\n",
            "Area outside census metropolitan areas and census agglomerations, British Columbia: 4.106069966130193\n",
            "Area outside census metropolitan areas and census agglomerations, Manitoba: 3.3680960457966718\n",
            "Area outside census metropolitan areas and census agglomerations, New Brunswick: 0.6670834875594134\n",
            "Area outside census metropolitan areas and census agglomerations, Newfoundland and Labrador: -3.634457985387497\n",
            "Area outside census metropolitan areas and census agglomerations, Northwest Territories: -2.7392775755926637\n",
            "Area outside census metropolitan areas and census agglomerations, Nova Scotia: 0.6088419353508715\n",
            "Area outside census metropolitan areas and census agglomerations, Nunavut: 6.676371925692652\n",
            "Area outside census metropolitan areas and census agglomerations, Ontario: 3.138035686474246\n",
            "Area outside census metropolitan areas and census agglomerations, Prince Edward Island: 6.4013029826780325\n",
            "Area outside census metropolitan areas and census agglomerations, Quebec: 3.510205798582913\n",
            "Area outside census metropolitan areas and census agglomerations, Saskatchewan: -0.9479570001657543\n",
            "Area outside census metropolitan areas and census agglomerations, Yukon: 2.744476071015043\n",
            "Arnprior (CA), Ontario: 8.30164803894265\n",
            "Athabasca-Grande Prairie-Peace River, Alberta: 0.24715303125175417\n",
            "Avalon Peninsula, Newfoundland and Labrador: 0.7809433782951504\n",
            "Baie-Comeau (CA), Quebec: -3.659133086849568\n",
            "Banff-Jasper-Rocky Mountain House, Alberta: -0.5144624812313476\n",
            "Barrie (CMA), Ontario: 8.48513181840949\n",
            "Bas-Saint-Laurent, Quebec: 0.40760663686642923\n",
            "Bathurst (CA), New Brunswick: 0.4364018877580077\n",
            "Bay Roberts (CA), Newfoundland and Labrador: -1.273701419863881\n",
            "Belleville (CMA), Ontario: 6.2352032938754505\n",
            "Brandon (CA), Manitoba: 5.472458448660866\n",
            "Brantford (CMA), Ontario: 6.565473282781752\n",
            "British Columbia: 6.928377441938774\n",
            "Brockville (CA), Ontario: 3.2769614778285256\n",
            "Brooks (CA), Alberta: -0.8676462416549522\n",
            "Calgary (CMA), Alberta: 8.348969803346735\n",
            "Calgary, Alberta: 7.969527595950635\n",
            "Campbell River (CA), British Columbia: 7.985250497744915\n",
            "Campbellton (CA), New Brunswick part, New Brunswick: -3.0047788830297195\n",
            "Campbellton (CA), New Brunswick/Quebec: -2.6573995862254685\n",
            "Campbellton (CA), Quebec part, Quebec: -1.1047874121191832\n",
            "Campbellton-Miramichi, New Brunswick: -0.7940176585803803\n",
            "Camrose (CA), Alberta: -1.2350370013207346\n",
            "Camrose-Drumheller, Alberta: -0.4422351189164277\n",
            "Canada: 5.582127959088832\n",
            "Canmore (CA), Alberta: 8.505692664771399\n",
            "Cape Breton (CA), Nova Scotia: -0.8653156384505022\n",
            "Cape Breton, Nova Scotia: -0.754553791781925\n",
            "Capitale-Nationale, Quebec: 3.524167729402488\n",
            "Cariboo, British Columbia: 3.6368406808387577\n",
            "Carleton Place (CA), Ontario: 17.101421330982816\n",
            "Centre Wellington (CA), Ontario: 9.282976937472482\n",
            "Centre-du-Québec, Quebec: 4.193457321921982\n",
            "Charlottetown (CA), Prince Edward Island: 14.683418366639964\n",
            "Chatham-Kent (CA), Ontario: 2.323981456106699\n",
            "Chaudière-Appalaches, Quebec: 3.28368776853874\n",
            "Chilliwack (CA), British Columbia: 11.255361108442727\n",
            "Cobourg (CA), Ontario: 0.9814075556315335\n",
            "Cold Lake (CA), Alberta: -6.962923074902476\n",
            "Collingwood (CA), Ontario: 11.407165743724144\n",
            "Corner Brook (CA), Newfoundland and Labrador: -1.687877213812214\n",
            "Cornwall (CA), Ontario: 2.1566281210052654\n",
            "Courtenay (CA), British Columbia: 7.821560569825749\n",
            "Cowansville (CA), Quebec: 11.24063099180757\n",
            "Cranbrook (CA), British Columbia: 3.5084503495674872\n",
            "Côte-Nord, Quebec: -2.568585260892953\n",
            "Dawson Creek (CA), British Columbia: 5.767885186509723\n",
            "Dolbeau-Mistassini (CA), Quebec: -1.755361296424103\n",
            "Drummondville (CA), Quebec: 5.265756784817565\n",
            "Duncan (CA), British Columbia: 5.600097023879143\n",
            "Edmonton (CMA), Alberta: 8.261707867804462\n",
            "Edmonton, Alberta: 7.828063430142576\n",
            "Edmundston (CA), New Brunswick: -0.056586123662601684\n",
            "Edmundston-Woodstock, New Brunswick: -0.246920149393651\n",
            "Elliot Lake (CA), Ontario: 4.302373973148041\n",
            "Estevan (CA), Saskatchewan: -4.379999144531414\n",
            "Estrie, Quebec: 4.791010385580006\n",
            "Fort St. John (CA), British Columbia: 0.02046265732763916\n",
            "Fredericton (CA), New Brunswick: 7.443377293577981\n",
            "Fredericton-Oromocto, New Brunswick: 5.376738028488092\n",
            "Gander (CA), Newfoundland and Labrador: 0.29901292387953793\n",
            "Gaspésie-Îles-de-la-Madeleine, Quebec: 0.3096853644990639\n",
            "Granby (CA), Quebec: 6.584769282523785\n",
            "Grand Falls-Windsor (CA), Newfoundland and Labrador: -0.25910344635444743\n",
            "Grande Prairie (CA), Alberta: 4.274680614587909\n",
            "Greater Sudbury (CMA), Ontario: 2.183579412007695\n",
            "Guelph (CMA), Ontario: 7.408910080112499\n",
            "Halifax (CMA), Nova Scotia: 10.010919412620193\n",
            "Halifax, Nova Scotia: 10.004460086789054\n",
            "Hamilton (CMA), Ontario: 5.038571679036877\n",
            "Hamilton-Niagara Peninsula, Ontario: 6.230334726888687\n",
            "Hawkesbury (CA), Ontario part, Ontario: 0.22325213361216986\n",
            "Hawkesbury (CA), Ontario/Quebec: 1.1581153018461858\n",
            "Hawkesbury (CA), Quebec part, Quebec: 6.846056854653831\n",
            "High River (CA), Alberta: 2.0934705536178266\n",
            "Ingersoll (CA), Ontario: 7.473038360610981\n",
            "Interlake, Manitoba: 4.9554108910363635\n",
            "Joliette (CA), Quebec: 5.942502850169407\n",
            "Kamloops (CA), British Columbia: 7.867580236284503\n",
            "Kawartha Lakes (CA), Ontario: 5.606277483332688\n",
            "Kelowna (CMA), British Columbia: 11.336049790248264\n",
            "Kenora (CA), Ontario: 1.3980891719745223\n",
            "Kentville (CA), Nova Scotia: 6.365030105499178\n",
            "Kingston (CMA), Ontario: 5.748368888261965\n",
            "Kingston-Pembroke, Ontario: 4.406102225644877\n",
            "Kitchener - Cambridge - Waterloo (CMA), Ontario: 10.21612008171005\n",
            "Kitchener-Waterloo-Barrie, Ontario: 9.384130671232107\n",
            "Kootenay, British Columbia: 4.7236942919167415\n",
            "Lachute (CA), Quebec: 7.050705884176113\n",
            "Lacombe (CA), Alberta: -1.5333383503913307\n",
            "Lanaudière, Quebec: 6.232237398175787\n",
            "Laurentides, Quebec: 7.192516552737323\n",
            "Laval, Quebec: 3.9534470004205664\n",
            "Leamington (CA), Ontario: 2.3230451483390273\n",
            "Lethbridge (CMA), Alberta: 7.633593486814479\n",
            "Lethbridge-Medicine Hat, Alberta: 3.556730468595707\n",
            "Lloydminster (CA), Alberta part, Alberta: 1.1364312193961466\n",
            "Lloydminster (CA), Alberta/Saskatchewan: 2.0365357078933157\n",
            "Lloydminster (CA), Saskatchewan part, Saskatchewan: 3.2022644997304144\n",
            "London (CMA), Ontario: 8.644507874361874\n",
            "London, Ontario: 8.28839102468757\n",
            "Lower Mainland-Southwest, British Columbia: 7.3103988148971695\n",
            "Manitoba: 5.565347303626429\n",
            "Matane (CA), Quebec: -1.771405996127215\n",
            "Mauricie, Quebec: 3.1779174682836295\n",
            "Medicine Hat (CA), Alberta: 1.454243234341136\n",
            "Midland (CA), Ontario: 8.043664842828022\n",
            "Miramichi (CA), New Brunswick: 0.7057517068015021\n",
            "Moncton (CMA), New Brunswick: 9.190494122710279\n",
            "Moncton-Richibucto, New Brunswick: 7.75021146075316\n",
            "Montréal (CMA), Quebec: 4.68038992599207\n",
            "Montréal, Quebec: 3.84520816082611\n",
            "Montérégie, Quebec: 5.381702051544493\n",
            "Moose Jaw (CA), Saskatchewan: -1.1332093488036419\n",
            "Muskoka-Kawarthas, Ontario: 4.990024267517141\n",
            "Nanaimo (CA), British Columbia: 7.798579202322539\n",
            "Nechako, British Columbia: 0.7171937603770093\n",
            "Nelson (CA), British Columbia: 4.831004105461003\n",
            "New Brunswick: 3.53943332923006\n",
            "New Glasgow (CA), Nova Scotia: 0.08346746901607507\n",
            "Newfoundland and Labrador: -0.9660312080533011\n",
            "Nord-du-Québec, Quebec: 3.5973543579876046\n",
            "Norfolk (CA), Ontario: 7.5995484864651335\n",
            "North Battleford (CA), Saskatchewan: -2.78125\n",
            "North Bay (CA), Ontario: 2.4032733000068482\n",
            "North Central, Manitoba: 6.37764654486449\n",
            "North Coast, British Columbia: 2.635784122960779\n",
            "North Shore, Nova Scotia: 0.6482763552209893\n",
            "North, Manitoba: 1.6808118476606873\n",
            "Northeast, British Columbia: 0.7078026500198261\n",
            "Northeast, Ontario: 1.3429830418608955\n",
            "Northern, Saskatchewan: 2.0501473406557214\n",
            "Northwest Territories: 1.9675083766764547\n",
            "Northwest Territories, Northwest Territories: 1.9675083766764547\n",
            "Northwest, Ontario: 0.4726841466645468\n",
            "Notre Dame-Central Bonavista Bay, Newfoundland and Labrador: -2.6636978922373307\n",
            "Nova Scotia: 4.804867325353427\n",
            "Nunavut: 6.676371925692652\n",
            "Nunavut, Nunavut: 6.676371925692652\n",
            "Okotoks (CA), Alberta: 5.753905004781641\n",
            "Ontario: 6.33502658126128\n",
            "Orillia (CA), Ontario: 6.2984514109298315\n",
            "Oshawa (CMA), Ontario: 9.611724933826883\n",
            "Ottawa - Gatineau (CMA), Ontario part, Ontario: 8.637042140872556\n",
            "Ottawa - Gatineau (CMA), Ontario/Quebec: 7.680597646270596\n",
            "Ottawa - Gatineau (CMA), Quebec part, Quebec: 4.73912409343784\n",
            "Ottawa, Ontario: 7.188874025219843\n",
            "Outaouais, Quebec: 4.460718091795644\n",
            "Owen Sound (CA), Ontario: 4.053403383880243\n",
            "Parklands, Manitoba: -0.7381359991274271\n",
            "Parksville (CA), British Columbia: 5.575178289766372\n",
            "Pembroke (CA), Ontario: -2.2310149012282823\n",
            "Penticton (CA), British Columbia: 4.569007694702664\n",
            "Petawawa (CA), Ontario: 8.898802864175432\n",
            "Peterborough (CMA), Ontario: 5.4760509834014215\n",
            "Port Alberni (CA), British Columbia: 4.87095112518932\n",
            "Port Hope (CA), Ontario: 3.6952761298861025\n",
            "Portage la Prairie (CA), Manitoba: 0.24680711874991249\n",
            "Powell River (CA), British Columbia: 2.5504597767624775\n",
            "Prince Albert (CA), Saskatchewan: 1.2118491921005385\n",
            "Prince Albert, Saskatchewan: 0.2556594458306542\n",
            "Prince Edward Island: 10.562050092212496\n",
            "Prince Edward Island, Prince Edward Island: 10.562050092212496\n",
            "Prince George (CA), British Columbia: 5.429705642170235\n",
            "Prince Rupert (CA), British Columbia: 2.6798455784050055\n",
            "Quebec: 4.162829777168\n",
            "Quesnel (CA), British Columbia: 0.8305426987859762\n",
            "Québec (CMA), Quebec: 3.7988760338133893\n",
            "Red Deer (CA), Alberta: 2.6120452253510202\n",
            "Red Deer, Alberta: 3.4991192068678623\n",
            "Regina (CMA), Saskatchewan: 7.627926426170871\n",
            "Regina-Moose Mountain, Saskatchewan: 5.2436578537043355\n",
            "Rimouski (CA), Quebec: 1.918530052045036\n",
            "Rivière-du-Loup (CA), Quebec: 2.173518265982301\n",
            "Rouyn-Noranda (CA), Quebec: 1.2133640444684701\n",
            "Saguenay (CMA), Quebec: 1.2933861896887955\n",
            "Saguenay-Lac-Saint-Jean, Quebec: 0.910631432192109\n",
            "Saint John (CMA), New Brunswick: 2.9086313525974283\n",
            "Saint John-St. Stephen, New Brunswick: 2.470263995993762\n",
            "Saint-Georges (CA), Quebec: 3.1715322215560753\n",
            "Saint-Hyacinthe (CA), Quebec: 3.138201013570061\n",
            "Sainte-Marie (CA), Quebec: -1.27473670333533\n",
            "Salaberry-de-Valleyfield (CA), Quebec: 5.578528497813099\n",
            "Salmon Arm (CA), British Columbia: 5.930991690946369\n",
            "Sarnia (CA), Ontario: 2.2758805776670514\n",
            "Saskatchewan: 3.9954287472208487\n",
            "Saskatoon (CMA), Saskatchewan: 9.97246688167545\n",
            "Saskatoon-Biggar, Saskatchewan: 7.957971137730794\n",
            "Sault Ste. Marie (CA), Ontario: 0.09721334146232297\n",
            "Sept-Îles (CA), Quebec: -1.52102271933867\n",
            "Shawinigan (CA), Quebec: 2.3060298806394313\n",
            "Sherbrooke (CMA), Quebec: 5.872286938057944\n",
            "Sorel-Tracy (CA), Quebec: 1.6324425466583505\n",
            "South Central, Manitoba: 7.0988897674013005\n",
            "South Coast-Burin Peninsula, Newfoundland and Labrador: -6.085039135543012\n",
            "Southeast, Manitoba: 8.245021544194712\n",
            "Southern, Nova Scotia: 0.663372347902324\n",
            "Southwest, Manitoba: 3.6716046879992907\n",
            "Squamish (CA), British Columbia: 14.79232538085657\n",
            "St. Catharines - Niagara (CMA), Ontario: 5.6450685049712845\n",
            "St. John's (CMA), Newfoundland and Labrador: 2.147619454654244\n",
            "Steinbach (CA), Manitoba: -1.2864895209580838\n",
            "Stratford (CA), Ontario: 4.909353935178061\n",
            "Stratford-Bruce Peninsula, Ontario: 6.007607770230874\n",
            "Strathmore (CA), Alberta: 1.9356406627496336\n",
            "Summerside (CA), Prince Edward Island: 7.440302001638768\n",
            "Swift Current (CA), Saskatchewan: 1.7793977180883966\n",
            "Swift Current-Moose Jaw, Saskatchewan: -0.5857369730482191\n",
            "Sylvan Lake (CA), Alberta: 2.9130941853461003\n",
            "Terrace (CA), British Columbia: 5.403876336825196\n",
            "Thetford Mines (CA), Quebec: 1.3754746935036\n",
            "Thompson (CA), Manitoba: 1.1600944476649677\n",
            "Thompson-Okanagan, British Columbia: 8.236246478417373\n",
            "Thunder Bay (CMA), Ontario: 0.47965306585170586\n",
            "Tillsonburg (CA), Ontario: 7.546945639325893\n",
            "Timmins (CA), Ontario: -0.6768191476007417\n",
            "Toronto (CMA), Ontario: 6.755721518659399\n",
            "Toronto, Ontario: 6.532515767376632\n",
            "Trois-Rivières (CMA), Quebec: 4.620868475257657\n",
            "Truro (CA), Nova Scotia: 2.010752688172043\n",
            "Val-d'Or (CA), Quebec: 1.4140835975108605\n",
            "Vancouver (CMA), British Columbia: 7.097779897821657\n",
            "Vancouver Island and Coast, British Columbia: 6.8689274351517655\n",
            "Vernon (CA), British Columbia: 6.259797072469158\n",
            "Victoria (CMA), British Columbia: 7.501944322526094\n",
            "Victoriaville (CA), Quebec: 3.418623140200863\n",
            "Wasaga Beach (CA), Ontario: 14.822446192247915\n",
            "West Coast-Northern Peninsula-Labrador, Newfoundland and Labrador: -2.0024925233662305\n",
            "Wetaskiwin (CA), Alberta: -0.6822044929023197\n",
            "Weyburn (CA), Saskatchewan: -0.45384903172935387\n",
            "Whitehorse (CA), Yukon: 12.209547047952272\n",
            "Williams Lake (CA), British Columbia: 1.9962226535858558\n",
            "Windsor (CMA), Ontario: 4.246734130309915\n",
            "Windsor-Sarnia, Ontario: 3.336778929500196\n",
            "Winkler (CA), Manitoba: 11.195934881032656\n",
            "Winnipeg (CMA), Manitoba: 6.6903046455038275\n",
            "Winnipeg, Manitoba: 6.167732235307763\n",
            "Wood Buffalo (CA), Alberta: -0.8357352091918384\n",
            "Wood Buffalo-Cold Lake, Alberta: -1.3393006134150331\n",
            "Woodstock (CA), Ontario: 12.053346338888964\n",
            "Yellowknife (CA), Northwest Territories: 7.237380757440172\n",
            "Yorkton (CA), Saskatchewan: 0.03469010175763182\n",
            "Yorkton-Melville, Saskatchewan: -1.8440617364599838\n",
            "Yukon: 10.181754288047218\n",
            "Yukon, Yukon: 10.181754288047218\n"
          ]
        }
      ]
    },
    {
      "cell_type": "code",
      "source": [
        "merged_vacan['geo'].unique()"
      ],
      "metadata": {
        "colab": {
          "base_uri": "https://localhost:8080/"
        },
        "id": "_CrnS6QDctZO",
        "outputId": "0b1a5ff3-6aae-47cb-af6f-b7cdcc2ce26f"
      },
      "execution_count": 236,
      "outputs": [
        {
          "output_type": "execute_result",
          "data": {
            "text/plain": [
              "array(['Belleville, Ontario', 'Cape Breton, Nova Scotia',\n",
              "       'Charlottetown, Prince Edward Island', 'Chatham-Kent, Ontario',\n",
              "       'Chilliwack, British Columbia', 'Cornwall, Ontario',\n",
              "       'Drummondville, Quebec', 'Fredericton, New Brunswick',\n",
              "       'Granby, Quebec', 'Grande Prairie, Alberta',\n",
              "       'Kamloops, British Columbia', 'Kawartha Lakes, Ontario',\n",
              "       'Lethbridge, Alberta', 'Medicine Hat, Alberta',\n",
              "       'Nanaimo, British Columbia', 'Norfolk, Ontario',\n",
              "       'North Bay, Ontario', 'Prince George, British Columbia',\n",
              "       'Red Deer, Alberta', 'Saint-Hyacinthe, Quebec',\n",
              "       'Saint-Jean-sur-Richelieu, Quebec', 'Sarnia, Ontario',\n",
              "       'Sault Ste. Marie, Ontario', 'Shawinigan, Quebec',\n",
              "       'Vernon, British Columbia', 'Wood Buffalo, Alberta',\n",
              "       'Alma, Quebec', 'Amos, Quebec', 'Baie-Comeau, Quebec',\n",
              "       'Bathurst, New Brunswick',\n",
              "       'Bay Roberts, Newfoundland and Labrador',\n",
              "       'Bonnyville No. 87, Alberta', 'Bracebridge, Ontario',\n",
              "       'Brighton, Ontario', 'Brock, Ontario', 'Brockville, Ontario',\n",
              "       'Brooks, Alberta', 'Campbell River, British Columbia',\n",
              "       'Campbellton, New Brunswick/Quebec', 'Camrose, Alberta',\n",
              "       'Canmore, Alberta', 'Centre Wellington, Ontario',\n",
              "       'Chester, Nova Scotia', 'Clearwater County, Alberta',\n",
              "       'Cobourg, Ontario', 'Cold Lake, Alberta', 'Collingwood, Ontario',\n",
              "       'Corner Brook, Newfoundland and Labrador', 'Cowansville, Quebec',\n",
              "       'Cranbrook, British Columbia', 'Dawson Creek, British Columbia',\n",
              "       'Dolbeau-Mistassini, Quebec', 'Duncan, British Columbia',\n",
              "       'East Hants, Nova Scotia', 'Edmundston, New Brunswick',\n",
              "       'Elliot Lake, Ontario', 'Erin, Ontario', 'Essex, Ontario',\n",
              "       'Estevan, Saskatchewan', 'Foothills No. 13, Alberta',\n",
              "       'Fort St. John, British Columbia',\n",
              "       'Gander, Newfoundland and Labrador', 'Gaspé, Quebec',\n",
              "       'Grand Falls-Windsor, Newfoundland and Labrador',\n",
              "       'Gravenhurst, Ontario', 'Greater Napanee, Ontario',\n",
              "       'Haldimand, Ontario', 'Hanover, Manitoba',\n",
              "       'Hawkesbury, Ontario part, Ontario/Quebec', 'High River, Alberta',\n",
              "       'Huntsville, Ontario', 'Ingersoll, Ontario', 'Joliette, Quebec',\n",
              "       'Kenora, Ontario', 'Kentville, Nova Scotia', 'Kincardine, Ontario',\n",
              "       'Kings Subdivision, Ontario', 'La Tuque, Quebec',\n",
              "       'Lachute, Quebec', 'Lacombe, Alberta', 'Lacombe County, Alberta',\n",
              "       'Lambton Shores, Ontario', 'Leamington, Ontario',\n",
              "       'Les Îles-de-la-Madeleine, Quebec',\n",
              "       'Lloydminster, Saskatchewan/Alberta', 'Lunenburg, Nova Scotia',\n",
              "       'Mackenzie No. 23, Alberta', 'Matane, Quebec', 'Meaford, Ontario',\n",
              "       'Midland, Ontario', 'Miramichi, New Brunswick',\n",
              "       'Mississippi Mills, Ontario', 'Mont-Laurier, Quebec',\n",
              "       'Montmagny, Quebec', 'Moose Jaw, Saskatchewan',\n",
              "       'Mountain View County, Alberta', 'New Glasgow, Nova Scotia',\n",
              "       'North Battleford, Saskatchewan', 'North Grenville, Ontario',\n",
              "       'North Perth, Ontario', 'Okotoks, Alberta', 'Orillia, Ontario',\n",
              "       'Owen Sound, Ontario', 'Parksville, British Columbia',\n",
              "       'Pembroke, Ontario', 'Penticton, British Columbia',\n",
              "       'Petawawa, Ontario', 'Port Alberni, British Columbia',\n",
              "       'Port Hope, Ontario', 'Portage la Prairie, Manitoba',\n",
              "       'Powell River, British Columbia', 'Prévost, Quebec',\n",
              "       'Prince Albert, Saskatchewan', 'Prince Edward, Ontario',\n",
              "       'Prince Rupert, British Columbia', 'Queens, Nova Scotia',\n",
              "       'Quesnel, British Columbia', 'Rawdon, Quebec',\n",
              "       'Red Deer County, Alberta', 'Rivière-du-Loup, Quebec',\n",
              "       'Roberval, Quebec', 'Rouyn-Noranda, Quebec',\n",
              "       'Saint-Félicien, Quebec', 'Saint-Georges, Quebec',\n",
              "       'Saint-Lin--Laurentides, Quebec', 'Sainte-Adèle, Quebec',\n",
              "       'Sainte-Marie, Quebec', 'Sainte- Sophie, Quebec',\n",
              "       'Salmon Arm, British Columbia', 'Salaberry-de-Valleyfield, Quebec',\n",
              "       'Saugeen Shores, Ontario', 'Scugog, Ontario', 'Sept-Îles, Quebec',\n",
              "       'Sorel-Tracy, Quebec', 'Squamish, British Columbia',\n",
              "       'St. Andrews, Ontario', 'Steinbach, Manitoba',\n",
              "       'Stratford, Ontario', 'Strathmore, Alberta',\n",
              "       'Summerland, British Columbia', 'Summerside, Prince Edward Island',\n",
              "       'Swift Current, Saskatchewan', 'Sylvan Lake, Alberta',\n",
              "       'Temiskaming Shores, Ontario', 'Terrace, British Columbia',\n",
              "       'The Nation, Ontario', 'Thetford Mines, Quebec',\n",
              "       'Thompson, Manitoba', 'Tillsonburg, Ontario', 'Timmins, Ontario',\n",
              "       'Trent Hills, Ontario', 'Truro, Nova Scotia', \"Val-d'Or, Quebec\",\n",
              "       'Victoriaville, Quebec', 'Wasaga Beach, Ontario',\n",
              "       'West Grey, Ontario', 'West Hants, Nova Scotia',\n",
              "       'West Nipissing, Ontario', 'Wetaskiwin, Alberta',\n",
              "       'Wetaskiwin County No. 10, Alberta', 'Whitehorse, Yukon',\n",
              "       'Williams Lake, British Columbia', 'Woodstock, Ontario',\n",
              "       'Yarmouth, Nova Scotia', 'Yellowhead County, Alberta',\n",
              "       'Yellowknife, Northwest Territories', 'Yorkton, Saskatchewan'],\n",
              "      dtype=object)"
            ]
          },
          "metadata": {},
          "execution_count": 236
        }
      ]
    },
    {
      "cell_type": "code",
      "source": [
        "merged_popul['geo'].unique()"
      ],
      "metadata": {
        "colab": {
          "base_uri": "https://localhost:8080/"
        },
        "id": "usDQ3-hdcwYO",
        "outputId": "47666a0d-7436-45de-d5ff-164a289553e5"
      },
      "execution_count": 237,
      "outputs": [
        {
          "output_type": "execute_result",
          "data": {
            "text/plain": [
              "array(['Canada', 'Newfoundland and Labrador',\n",
              "       'Avalon Peninsula, Newfoundland and Labrador',\n",
              "       'South Coast-Burin Peninsula, Newfoundland and Labrador',\n",
              "       'West Coast-Northern Peninsula-Labrador, Newfoundland and Labrador',\n",
              "       'Notre Dame-Central Bonavista Bay, Newfoundland and Labrador',\n",
              "       'Prince Edward Island',\n",
              "       'Prince Edward Island, Prince Edward Island', 'Nova Scotia',\n",
              "       'Cape Breton, Nova Scotia', 'North Shore, Nova Scotia',\n",
              "       'Annapolis Valley, Nova Scotia', 'Southern, Nova Scotia',\n",
              "       'Halifax, Nova Scotia', 'New Brunswick',\n",
              "       'Campbellton-Miramichi, New Brunswick',\n",
              "       'Moncton-Richibucto, New Brunswick',\n",
              "       'Saint John-St. Stephen, New Brunswick',\n",
              "       'Fredericton-Oromocto, New Brunswick',\n",
              "       'Edmundston-Woodstock, New Brunswick', 'Quebec',\n",
              "       'Gaspésie-Îles-de-la-Madeleine, Quebec',\n",
              "       'Bas-Saint-Laurent, Quebec', 'Capitale-Nationale, Quebec',\n",
              "       'Chaudière-Appalaches, Quebec', 'Estrie, Quebec',\n",
              "       'Centre-du-Québec, Quebec', 'Montérégie, Quebec',\n",
              "       'Montréal, Quebec', 'Laval, Quebec', 'Lanaudière, Quebec',\n",
              "       'Laurentides, Quebec', 'Outaouais, Quebec',\n",
              "       'Abitibi-Témiscamingue, Quebec', 'Mauricie, Quebec',\n",
              "       'Saguenay-Lac-Saint-Jean, Quebec', 'Côte-Nord, Quebec',\n",
              "       'Nord-du-Québec, Quebec', 'Ontario', 'Ottawa, Ontario',\n",
              "       'Kingston-Pembroke, Ontario', 'Muskoka-Kawarthas, Ontario',\n",
              "       'Toronto, Ontario', 'Kitchener-Waterloo-Barrie, Ontario',\n",
              "       'Hamilton-Niagara Peninsula, Ontario', 'London, Ontario',\n",
              "       'Windsor-Sarnia, Ontario', 'Stratford-Bruce Peninsula, Ontario',\n",
              "       'Northeast, Ontario', 'Northwest, Ontario', 'Manitoba',\n",
              "       'Southeast, Manitoba', 'South Central, Manitoba',\n",
              "       'Southwest, Manitoba', 'North Central, Manitoba',\n",
              "       'Winnipeg, Manitoba', 'Interlake, Manitoba', 'Parklands, Manitoba',\n",
              "       'North, Manitoba', 'Saskatchewan',\n",
              "       'Regina-Moose Mountain, Saskatchewan',\n",
              "       'Swift Current-Moose Jaw, Saskatchewan',\n",
              "       'Saskatoon-Biggar, Saskatchewan', 'Yorkton-Melville, Saskatchewan',\n",
              "       'Prince Albert, Saskatchewan', 'Northern, Saskatchewan', 'Alberta',\n",
              "       'Lethbridge-Medicine Hat, Alberta', 'Camrose-Drumheller, Alberta',\n",
              "       'Calgary, Alberta', 'Banff-Jasper-Rocky Mountain House, Alberta',\n",
              "       'Red Deer, Alberta', 'Edmonton, Alberta',\n",
              "       'Athabasca-Grande Prairie-Peace River, Alberta',\n",
              "       'Wood Buffalo-Cold Lake, Alberta', 'British Columbia',\n",
              "       'Vancouver Island and Coast, British Columbia',\n",
              "       'Lower Mainland-Southwest, British Columbia',\n",
              "       'Thompson-Okanagan, British Columbia',\n",
              "       'Kootenay, British Columbia', 'Cariboo, British Columbia',\n",
              "       'North Coast, British Columbia', 'Nechako, British Columbia',\n",
              "       'Northeast, British Columbia', 'Yukon', 'Yukon, Yukon',\n",
              "       'Northwest Territories',\n",
              "       'Northwest Territories, Northwest Territories', 'Nunavut',\n",
              "       'Nunavut, Nunavut',\n",
              "       'All census metropolitan areas and census agglomerations, Canada',\n",
              "       'All census metropolitan areas, Canada',\n",
              "       \"St. John's (CMA), Newfoundland and Labrador\",\n",
              "       'Halifax (CMA), Nova Scotia', 'Moncton (CMA), New Brunswick',\n",
              "       'Saint John (CMA), New Brunswick', 'Saguenay (CMA), Quebec',\n",
              "       'Québec (CMA), Quebec', 'Sherbrooke (CMA), Quebec',\n",
              "       'Trois-Rivières (CMA), Quebec', 'Montréal (CMA), Quebec',\n",
              "       'Ottawa - Gatineau (CMA), Ontario/Quebec',\n",
              "       'Ottawa - Gatineau (CMA), Ontario part, Ontario',\n",
              "       'Ottawa - Gatineau (CMA), Quebec part, Quebec',\n",
              "       'Kingston (CMA), Ontario', 'Belleville (CMA), Ontario',\n",
              "       'Peterborough (CMA), Ontario', 'Oshawa (CMA), Ontario',\n",
              "       'Toronto (CMA), Ontario', 'Hamilton (CMA), Ontario',\n",
              "       'St. Catharines - Niagara (CMA), Ontario',\n",
              "       'Kitchener - Cambridge - Waterloo (CMA), Ontario',\n",
              "       'Brantford (CMA), Ontario', 'Guelph (CMA), Ontario',\n",
              "       'London (CMA), Ontario', 'Windsor (CMA), Ontario',\n",
              "       'Barrie (CMA), Ontario', 'Greater Sudbury (CMA), Ontario',\n",
              "       'Thunder Bay (CMA), Ontario', 'Winnipeg (CMA), Manitoba',\n",
              "       'Regina (CMA), Saskatchewan', 'Saskatoon (CMA), Saskatchewan',\n",
              "       'Lethbridge (CMA), Alberta', 'Calgary (CMA), Alberta',\n",
              "       'Edmonton (CMA), Alberta', 'Kelowna (CMA), British Columbia',\n",
              "       'Abbotsford - Mission (CMA), British Columbia',\n",
              "       'Vancouver (CMA), British Columbia',\n",
              "       'Victoria (CMA), British Columbia',\n",
              "       'All census agglomerations, Canada',\n",
              "       'Bay Roberts (CA), Newfoundland and Labrador',\n",
              "       'Grand Falls-Windsor (CA), Newfoundland and Labrador',\n",
              "       'Gander (CA), Newfoundland and Labrador',\n",
              "       'Corner Brook (CA), Newfoundland and Labrador',\n",
              "       'Charlottetown (CA), Prince Edward Island',\n",
              "       'Summerside (CA), Prince Edward Island',\n",
              "       'Kentville (CA), Nova Scotia', 'Truro (CA), Nova Scotia',\n",
              "       'New Glasgow (CA), Nova Scotia', 'Cape Breton (CA), Nova Scotia',\n",
              "       'Fredericton (CA), New Brunswick', 'Bathurst (CA), New Brunswick',\n",
              "       'Miramichi (CA), New Brunswick', 'Edmundston (CA), New Brunswick',\n",
              "       'Campbellton (CA), New Brunswick/Quebec',\n",
              "       'Campbellton (CA), New Brunswick part, New Brunswick',\n",
              "       'Campbellton (CA), Quebec part, Quebec', 'Matane (CA), Quebec',\n",
              "       'Rimouski (CA), Quebec', 'Rivière-du-Loup (CA), Quebec',\n",
              "       'Baie-Comeau (CA), Quebec', 'Alma (CA), Quebec',\n",
              "       'Dolbeau-Mistassini (CA), Quebec', 'Sept-Îles (CA), Quebec',\n",
              "       'Sainte-Marie (CA), Quebec', 'Saint-Georges (CA), Quebec',\n",
              "       'Thetford Mines (CA), Quebec', 'Cowansville (CA), Quebec',\n",
              "       'Victoriaville (CA), Quebec', 'Shawinigan (CA), Quebec',\n",
              "       'Drummondville (CA), Quebec', 'Granby (CA), Quebec',\n",
              "       'Saint-Hyacinthe (CA), Quebec', 'Sorel-Tracy (CA), Quebec',\n",
              "       'Joliette (CA), Quebec', 'Salaberry-de-Valleyfield (CA), Quebec',\n",
              "       'Lachute (CA), Quebec', \"Val-d'Or (CA), Quebec\",\n",
              "       'Rouyn-Noranda (CA), Quebec', 'Hawkesbury (CA), Ontario/Quebec',\n",
              "       'Hawkesbury (CA), Ontario part, Ontario',\n",
              "       'Hawkesbury (CA), Quebec part, Quebec', 'Cornwall (CA), Ontario',\n",
              "       'Arnprior (CA), Ontario', 'Carleton Place (CA), Ontario',\n",
              "       'Brockville (CA), Ontario', 'Pembroke (CA), Ontario',\n",
              "       'Petawawa (CA), Ontario', 'Cobourg (CA), Ontario',\n",
              "       'Port Hope (CA), Ontario', 'Kawartha Lakes (CA), Ontario',\n",
              "       'Centre Wellington (CA), Ontario', 'Ingersoll (CA), Ontario',\n",
              "       'Woodstock (CA), Ontario', 'Tillsonburg (CA), Ontario',\n",
              "       'Norfolk (CA), Ontario', 'Stratford (CA), Ontario',\n",
              "       'Chatham-Kent (CA), Ontario', 'Leamington (CA), Ontario',\n",
              "       'Sarnia (CA), Ontario', 'Wasaga Beach (CA), Ontario',\n",
              "       'Owen Sound (CA), Ontario', 'Collingwood (CA), Ontario',\n",
              "       'Orillia (CA), Ontario', 'Midland (CA), Ontario',\n",
              "       'North Bay (CA), Ontario', 'Elliot Lake (CA), Ontario',\n",
              "       'Timmins (CA), Ontario', 'Sault Ste. Marie (CA), Ontario',\n",
              "       'Kenora (CA), Ontario', 'Winkler (CA), Manitoba',\n",
              "       'Steinbach (CA), Manitoba', 'Portage la Prairie (CA), Manitoba',\n",
              "       'Brandon (CA), Manitoba', 'Thompson (CA), Manitoba',\n",
              "       'Yorkton (CA), Saskatchewan', 'Moose Jaw (CA), Saskatchewan',\n",
              "       'Swift Current (CA), Saskatchewan',\n",
              "       'North Battleford (CA), Saskatchewan',\n",
              "       'Prince Albert (CA), Saskatchewan', 'Estevan (CA), Saskatchewan',\n",
              "       'Weyburn (CA), Saskatchewan',\n",
              "       'Lloydminster (CA), Alberta/Saskatchewan',\n",
              "       'Lloydminster (CA), Alberta part, Alberta',\n",
              "       'Lloydminster (CA), Saskatchewan part, Saskatchewan',\n",
              "       'Medicine Hat (CA), Alberta', 'Brooks (CA), Alberta',\n",
              "       'Okotoks (CA), Alberta', 'High River (CA), Alberta',\n",
              "       'Strathmore (CA), Alberta', 'Canmore (CA), Alberta',\n",
              "       'Red Deer (CA), Alberta', 'Sylvan Lake (CA), Alberta',\n",
              "       'Lacombe (CA), Alberta', 'Camrose (CA), Alberta',\n",
              "       'Cold Lake (CA), Alberta', 'Grande Prairie (CA), Alberta',\n",
              "       'Wood Buffalo (CA), Alberta', 'Wetaskiwin (CA), Alberta',\n",
              "       'Cranbrook (CA), British Columbia',\n",
              "       'Nelson (CA), British Columbia',\n",
              "       'Penticton (CA), British Columbia',\n",
              "       'Vernon (CA), British Columbia',\n",
              "       'Salmon Arm (CA), British Columbia',\n",
              "       'Kamloops (CA), British Columbia',\n",
              "       'Chilliwack (CA), British Columbia',\n",
              "       'Squamish (CA), British Columbia', 'Duncan (CA), British Columbia',\n",
              "       'Nanaimo (CA), British Columbia',\n",
              "       'Parksville (CA), British Columbia',\n",
              "       'Port Alberni (CA), British Columbia',\n",
              "       'Courtenay (CA), British Columbia',\n",
              "       'Campbell River (CA), British Columbia',\n",
              "       'Powell River (CA), British Columbia',\n",
              "       'Williams Lake (CA), British Columbia',\n",
              "       'Quesnel (CA), British Columbia',\n",
              "       'Prince Rupert (CA), British Columbia',\n",
              "       'Terrace (CA), British Columbia',\n",
              "       'Prince George (CA), British Columbia',\n",
              "       'Dawson Creek (CA), British Columbia',\n",
              "       'Fort St. John (CA), British Columbia', 'Whitehorse (CA), Yukon',\n",
              "       'Yellowknife (CA), Northwest Territories',\n",
              "       'All areas outside census metropolitan areas and census agglomerations, Canada',\n",
              "       'Area outside census metropolitan areas and census agglomerations, Newfoundland and Labrador',\n",
              "       'Area outside census metropolitan areas and census agglomerations, Prince Edward Island',\n",
              "       'Area outside census metropolitan areas and census agglomerations, Nova Scotia',\n",
              "       'Area outside census metropolitan areas and census agglomerations, New Brunswick',\n",
              "       'Area outside census metropolitan areas and census agglomerations, Quebec',\n",
              "       'Area outside census metropolitan areas and census agglomerations, Ontario',\n",
              "       'Area outside census metropolitan areas and census agglomerations, Manitoba',\n",
              "       'Area outside census metropolitan areas and census agglomerations, Saskatchewan',\n",
              "       'Area outside census metropolitan areas and census agglomerations, Alberta',\n",
              "       'Area outside census metropolitan areas and census agglomerations, British Columbia',\n",
              "       'Area outside census metropolitan areas and census agglomerations, Yukon',\n",
              "       'Area outside census metropolitan areas and census agglomerations, Northwest Territories',\n",
              "       'Area outside census metropolitan areas and census agglomerations, Nunavut'],\n",
              "      dtype=object)"
            ]
          },
          "metadata": {},
          "execution_count": 237
        }
      ]
    },
    {
      "cell_type": "code",
      "source": [
        "# Create a function to extract the province name from the 'geo' column\n",
        "def extract_province(geo):\n",
        "    provinces = ['Newfoundland and Labrador', 'Prince Edward Island', 'Nova Scotia', 'New Brunswick', 'Quebec', 'Ontario', 'Manitoba', 'Saskatchewan', 'Alberta', 'British Columbia', 'Yukon', 'Northwest Territories', 'Nunavut']\n",
        "    for province in provinces:\n",
        "        if province in geo:\n",
        "            return province\n",
        "    return None\n",
        "\n",
        "# Apply the extract_province function to each dataset\n",
        "merged_popul['province'] = merged_popul['geo'].apply(extract_province)\n",
        "merged_vacan['province'] = merged_vacan['geo'].apply(extract_province)\n",
        "\n",
        "# Group the data by 'province' and 'year' and calculate the mean (or sum) for each group\n",
        "grouped_popul = merged_popul.groupby(['province', 'year']).sum().reset_index()\n",
        "grouped_vacan = merged_vacan.groupby(['province', 'year']).mean().reset_index()\n",
        "\n",
        "# Merge the two datasets on the 'province' and 'year' columns\n",
        "merged_data = pd.merge(grouped_vacan, grouped_popul, on=['province', 'year'])\n",
        "\n",
        "# Calculate percentage changes and add as new columns\n",
        "merged_data['population_change_pct'] = merged_data.groupby('province')['value_y'].pct_change() * 100\n",
        "merged_data['vacancy_rate_change_pct'] = merged_data.groupby('province')['value_x'].pct_change() * 100\n",
        "\n",
        "# Create a D3 visualization using Plotly\n",
        "fig = px.line(merged_data, x='year', y='population_change_pct', color='province')\n",
        "fig.update_layout(title='Population Change Over Years by Province', xaxis_title='Year', yaxis_title='Population Change (%)')\n",
        "fig.show()\n",
        "\n",
        "fig = px.line(merged_data, x='year', y='vacancy_rate_change_pct', color='province')\n",
        "fig.update_layout(title='Vacancy Rate Change Over Years by Province', xaxis_title='Year', yaxis_title='Vacancy Rate Change (%)')\n",
        "fig.show()\n"
      ],
      "metadata": {
        "colab": {
          "base_uri": "https://localhost:8080/",
          "height": 1000
        },
        "id": "Dd97F0zkjN-Z",
        "outputId": "a36bf074-9d85-41cc-92a2-c7f61d64e658"
      },
      "execution_count": 207,
      "outputs": [
        {
          "output_type": "stream",
          "name": "stderr",
          "text": [
            "<ipython-input-207-4ed0986278f0>:14: FutureWarning:\n",
            "\n",
            "The default value of numeric_only in DataFrameGroupBy.sum is deprecated. In a future version, numeric_only will default to False. Either specify numeric_only or select only columns which should be valid for the function.\n",
            "\n",
            "<ipython-input-207-4ed0986278f0>:15: FutureWarning:\n",
            "\n",
            "The default value of numeric_only in DataFrameGroupBy.mean is deprecated. In a future version, numeric_only will default to False. Either specify numeric_only or select only columns which should be valid for the function.\n",
            "\n"
          ]
        },
        {
          "output_type": "display_data",
          "data": {
            "text/html": [
              "<html>\n",
              "<head><meta charset=\"utf-8\" /></head>\n",
              "<body>\n",
              "    <div>            <script src=\"https://cdnjs.cloudflare.com/ajax/libs/mathjax/2.7.5/MathJax.js?config=TeX-AMS-MML_SVG\"></script><script type=\"text/javascript\">if (window.MathJax && window.MathJax.Hub && window.MathJax.Hub.Config) {window.MathJax.Hub.Config({SVG: {font: \"STIX-Web\"}});}</script>                <script type=\"text/javascript\">window.PlotlyConfig = {MathJaxConfig: 'local'};</script>\n",
              "        <script src=\"https://cdn.plot.ly/plotly-2.18.2.min.js\"></script>                <div id=\"c08fac87-388f-41ee-b821-d75c4d89807e\" class=\"plotly-graph-div\" style=\"height:525px; width:100%;\"></div>            <script type=\"text/javascript\">                                    window.PLOTLYENV=window.PLOTLYENV || {};                                    if (document.getElementById(\"c08fac87-388f-41ee-b821-d75c4d89807e\")) {                    Plotly.newPlot(                        \"c08fac87-388f-41ee-b821-d75c4d89807e\",                        [{\"hovertemplate\":\"province=Alberta<br>year=%{x}<br>population_change_pct=%{y}<extra></extra>\",\"legendgroup\":\"Alberta\",\"line\":{\"color\":\"#636efa\",\"dash\":\"solid\"},\"marker\":{\"symbol\":\"circle\"},\"mode\":\"lines\",\"name\":\"Alberta\",\"orientation\":\"v\",\"showlegend\":true,\"x\":[2014,2015,2016,2017,2018,2019,2020,2021,2022],\"xaxis\":\"x\",\"y\":[null,1.489917838168231,1.2443023763352379,1.0733638047683236,1.3481172337365344,1.495972221414399,1.2402305426885363,0.6133790026087382,2.23544271950884],\"yaxis\":\"y\",\"type\":\"scatter\"},{\"hovertemplate\":\"province=British Columbia<br>year=%{x}<br>population_change_pct=%{y}<extra></extra>\",\"legendgroup\":\"British Columbia\",\"line\":{\"color\":\"#EF553B\",\"dash\":\"solid\"},\"marker\":{\"symbol\":\"circle\"},\"mode\":\"lines\",\"name\":\"British Columbia\",\"orientation\":\"v\",\"showlegend\":true,\"x\":[2014,2015,2016,2017,2018,2019,2020,2021,2022],\"xaxis\":\"x\",\"y\":[null,1.4719244511964158,1.7348255627474218,1.4433091526470099,1.645073704949751,1.6828740423065591,1.191392157801796,0.909379215768813,2.2479335411613732],\"yaxis\":\"y\",\"type\":\"scatter\"},{\"hovertemplate\":\"province=Manitoba<br>year=%{x}<br>population_change_pct=%{y}<extra></extra>\",\"legendgroup\":\"Manitoba\",\"line\":{\"color\":\"#00cc96\",\"dash\":\"solid\"},\"marker\":{\"symbol\":\"circle\"},\"mode\":\"lines\",\"name\":\"Manitoba\",\"orientation\":\"v\",\"showlegend\":true,\"x\":[2014,2015,2016,2017,2018,2019,2020,2021,2022],\"xaxis\":\"x\",\"y\":[null,1.0330614051136333,1.6956773074699782,1.5714471604602043,1.3511488698596752,1.2661652467983675,0.7251338366105697,0.8762305346520893,1.238811792419292],\"yaxis\":\"y\",\"type\":\"scatter\"},{\"hovertemplate\":\"province=New Brunswick<br>year=%{x}<br>population_change_pct=%{y}<extra></extra>\",\"legendgroup\":\"New Brunswick\",\"line\":{\"color\":\"#ab63fa\",\"dash\":\"solid\"},\"marker\":{\"symbol\":\"circle\"},\"mode\":\"lines\",\"name\":\"New Brunswick\",\"orientation\":\"v\",\"showlegend\":true,\"x\":[2014,2015,2016,2017,2018,2019,2020,2021,2022],\"xaxis\":\"x\",\"y\":[null,-0.023587620379705854,0.5795375997313501,0.4214065326467509,0.47218467014644716,0.8768450424348373,0.7462778762562294,0.9344154364178348,2.726435997669041],\"yaxis\":\"y\",\"type\":\"scatter\"},{\"hovertemplate\":\"province=Newfoundland and Labrador<br>year=%{x}<br>population_change_pct=%{y}<extra></extra>\",\"legendgroup\":\"Newfoundland and Labrador\",\"line\":{\"color\":\"#FFA15A\",\"dash\":\"solid\"},\"marker\":{\"symbol\":\"circle\"},\"mode\":\"lines\",\"name\":\"Newfoundland and Labrador\",\"orientation\":\"v\",\"showlegend\":true,\"x\":[2014,2015,2016,2017,2018,2019,2020,2021,2022],\"xaxis\":\"x\",\"y\":[null,-0.007952150772783106,0.24786174275777118,-0.2223162443854343,-0.5090402442787356,-0.405852804627449,-0.39508852237274406,-0.17396841715593414,1.0606165410066648],\"yaxis\":\"y\",\"type\":\"scatter\"},{\"hovertemplate\":\"province=Northwest Territories<br>year=%{x}<br>population_change_pct=%{y}<extra></extra>\",\"legendgroup\":\"Northwest Territories\",\"line\":{\"color\":\"#19d3f3\",\"dash\":\"solid\"},\"marker\":{\"symbol\":\"circle\"},\"mode\":\"lines\",\"name\":\"Northwest Territories\",\"orientation\":\"v\",\"showlegend\":true,\"x\":[2014,2015,2016,2017,2018,2019,2020,2021,2022],\"xaxis\":\"x\",\"y\":[null,0.8043934007838871,0.9313470624138231,0.5420054200542035,0.20048562072576548,0.19786131922368,0.6123807410694404,0.5535218100824801,0.017545013926345554],\"yaxis\":\"y\",\"type\":\"scatter\"},{\"hovertemplate\":\"province=Nova Scotia<br>year=%{x}<br>population_change_pct=%{y}<extra></extra>\",\"legendgroup\":\"Nova Scotia\",\"line\":{\"color\":\"#FF6692\",\"dash\":\"solid\"},\"marker\":{\"symbol\":\"circle\"},\"mode\":\"lines\",\"name\":\"Nova Scotia\",\"orientation\":\"v\",\"showlegend\":true,\"x\":[2014,2015,2016,2017,2018,2019,2020,2021,2022],\"xaxis\":\"x\",\"y\":[null,-0.21522676057088574,0.6689623875497208,0.7762067904835579,0.8733743953319051,1.2350715667472922,1.1799105997157389,0.9601799344192807,2.8864402487294605],\"yaxis\":\"y\",\"type\":\"scatter\"},{\"hovertemplate\":\"province=Ontario<br>year=%{x}<br>population_change_pct=%{y}<extra></extra>\",\"legendgroup\":\"Ontario\",\"line\":{\"color\":\"#B6E880\",\"dash\":\"solid\"},\"marker\":{\"symbol\":\"circle\"},\"mode\":\"lines\",\"name\":\"Ontario\",\"orientation\":\"v\",\"showlegend\":true,\"x\":[2014,2015,2016,2017,2018,2019,2020,2021,2022],\"xaxis\":\"x\",\"y\":[null,0.6577172859176583,1.2276541283149367,1.4035421264434023,1.695476967856968,1.6493745027936546,1.2466464590781268,0.565223928091374,2.0268336217002636],\"yaxis\":\"y\",\"type\":\"scatter\"},{\"hovertemplate\":\"province=Prince Edward Island<br>year=%{x}<br>population_change_pct=%{y}<extra></extra>\",\"legendgroup\":\"Prince Edward Island\",\"line\":{\"color\":\"#FF97FF\",\"dash\":\"solid\"},\"marker\":{\"symbol\":\"circle\"},\"mode\":\"lines\",\"name\":\"Prince Edward Island\",\"orientation\":\"v\",\"showlegend\":true,\"x\":[2014,2015,2016,2017,2018,2019,2020,2021,2022],\"xaxis\":\"x\",\"y\":[null,0.18228065676482164,1.6762829825799352,2.3358667474093098,1.9906650177524243,2.6226237972307054,2.4685711381726483,2.1406651994668513,3.5992182473688628],\"yaxis\":\"y\",\"type\":\"scatter\"},{\"hovertemplate\":\"province=Quebec<br>year=%{x}<br>population_change_pct=%{y}<extra></extra>\",\"legendgroup\":\"Quebec\",\"line\":{\"color\":\"#FECB52\",\"dash\":\"solid\"},\"marker\":{\"symbol\":\"circle\"},\"mode\":\"lines\",\"name\":\"Quebec\",\"orientation\":\"v\",\"showlegend\":true,\"x\":[2014,2015,2016,2017,2018,2019,2020,2021,2022],\"xaxis\":\"x\",\"y\":[null,0.33296371401227987,0.6673193569801006,0.9802850023182152,1.2363152639279562,1.2477074059888515,0.9047908478814648,0.3262210397867449,1.1156125709254727],\"yaxis\":\"y\",\"type\":\"scatter\"},{\"hovertemplate\":\"province=Saskatchewan<br>year=%{x}<br>population_change_pct=%{y}<extra></extra>\",\"legendgroup\":\"Saskatchewan\",\"line\":{\"color\":\"#636efa\",\"dash\":\"solid\"},\"marker\":{\"symbol\":\"circle\"},\"mode\":\"lines\",\"name\":\"Saskatchewan\",\"orientation\":\"v\",\"showlegend\":true,\"x\":[2014,2015,2016,2017,2018,2019,2020,2021,2022],\"xaxis\":\"x\",\"y\":[null,0.7149283560292874,1.3270507260513043,1.2495317522773552,0.9950325807635885,0.9209936690204534,0.504467554305954,0.2552233148009897,1.124469056575328],\"yaxis\":\"y\",\"type\":\"scatter\"},{\"hovertemplate\":\"province=Yukon<br>year=%{x}<br>population_change_pct=%{y}<extra></extra>\",\"legendgroup\":\"Yukon\",\"line\":{\"color\":\"#EF553B\",\"dash\":\"solid\"},\"marker\":{\"symbol\":\"circle\"},\"mode\":\"lines\",\"name\":\"Yukon\",\"orientation\":\"v\",\"showlegend\":true,\"x\":[2014,2015,2016,2017,2018,2019,2020,2021,2022],\"xaxis\":\"x\",\"y\":[null,1.489080970460721,2.2738126824091376,2.7576724518120654,2.294875031557697,2.080505441891467,1.9365601276533972,2.5780897943694647,1.246242774566464],\"yaxis\":\"y\",\"type\":\"scatter\"}],                        {\"template\":{\"data\":{\"histogram2dcontour\":[{\"type\":\"histogram2dcontour\",\"colorbar\":{\"outlinewidth\":0,\"ticks\":\"\"},\"colorscale\":[[0.0,\"#0d0887\"],[0.1111111111111111,\"#46039f\"],[0.2222222222222222,\"#7201a8\"],[0.3333333333333333,\"#9c179e\"],[0.4444444444444444,\"#bd3786\"],[0.5555555555555556,\"#d8576b\"],[0.6666666666666666,\"#ed7953\"],[0.7777777777777778,\"#fb9f3a\"],[0.8888888888888888,\"#fdca26\"],[1.0,\"#f0f921\"]]}],\"choropleth\":[{\"type\":\"choropleth\",\"colorbar\":{\"outlinewidth\":0,\"ticks\":\"\"}}],\"histogram2d\":[{\"type\":\"histogram2d\",\"colorbar\":{\"outlinewidth\":0,\"ticks\":\"\"},\"colorscale\":[[0.0,\"#0d0887\"],[0.1111111111111111,\"#46039f\"],[0.2222222222222222,\"#7201a8\"],[0.3333333333333333,\"#9c179e\"],[0.4444444444444444,\"#bd3786\"],[0.5555555555555556,\"#d8576b\"],[0.6666666666666666,\"#ed7953\"],[0.7777777777777778,\"#fb9f3a\"],[0.8888888888888888,\"#fdca26\"],[1.0,\"#f0f921\"]]}],\"heatmap\":[{\"type\":\"heatmap\",\"colorbar\":{\"outlinewidth\":0,\"ticks\":\"\"},\"colorscale\":[[0.0,\"#0d0887\"],[0.1111111111111111,\"#46039f\"],[0.2222222222222222,\"#7201a8\"],[0.3333333333333333,\"#9c179e\"],[0.4444444444444444,\"#bd3786\"],[0.5555555555555556,\"#d8576b\"],[0.6666666666666666,\"#ed7953\"],[0.7777777777777778,\"#fb9f3a\"],[0.8888888888888888,\"#fdca26\"],[1.0,\"#f0f921\"]]}],\"heatmapgl\":[{\"type\":\"heatmapgl\",\"colorbar\":{\"outlinewidth\":0,\"ticks\":\"\"},\"colorscale\":[[0.0,\"#0d0887\"],[0.1111111111111111,\"#46039f\"],[0.2222222222222222,\"#7201a8\"],[0.3333333333333333,\"#9c179e\"],[0.4444444444444444,\"#bd3786\"],[0.5555555555555556,\"#d8576b\"],[0.6666666666666666,\"#ed7953\"],[0.7777777777777778,\"#fb9f3a\"],[0.8888888888888888,\"#fdca26\"],[1.0,\"#f0f921\"]]}],\"contourcarpet\":[{\"type\":\"contourcarpet\",\"colorbar\":{\"outlinewidth\":0,\"ticks\":\"\"}}],\"contour\":[{\"type\":\"contour\",\"colorbar\":{\"outlinewidth\":0,\"ticks\":\"\"},\"colorscale\":[[0.0,\"#0d0887\"],[0.1111111111111111,\"#46039f\"],[0.2222222222222222,\"#7201a8\"],[0.3333333333333333,\"#9c179e\"],[0.4444444444444444,\"#bd3786\"],[0.5555555555555556,\"#d8576b\"],[0.6666666666666666,\"#ed7953\"],[0.7777777777777778,\"#fb9f3a\"],[0.8888888888888888,\"#fdca26\"],[1.0,\"#f0f921\"]]}],\"surface\":[{\"type\":\"surface\",\"colorbar\":{\"outlinewidth\":0,\"ticks\":\"\"},\"colorscale\":[[0.0,\"#0d0887\"],[0.1111111111111111,\"#46039f\"],[0.2222222222222222,\"#7201a8\"],[0.3333333333333333,\"#9c179e\"],[0.4444444444444444,\"#bd3786\"],[0.5555555555555556,\"#d8576b\"],[0.6666666666666666,\"#ed7953\"],[0.7777777777777778,\"#fb9f3a\"],[0.8888888888888888,\"#fdca26\"],[1.0,\"#f0f921\"]]}],\"mesh3d\":[{\"type\":\"mesh3d\",\"colorbar\":{\"outlinewidth\":0,\"ticks\":\"\"}}],\"scatter\":[{\"fillpattern\":{\"fillmode\":\"overlay\",\"size\":10,\"solidity\":0.2},\"type\":\"scatter\"}],\"parcoords\":[{\"type\":\"parcoords\",\"line\":{\"colorbar\":{\"outlinewidth\":0,\"ticks\":\"\"}}}],\"scatterpolargl\":[{\"type\":\"scatterpolargl\",\"marker\":{\"colorbar\":{\"outlinewidth\":0,\"ticks\":\"\"}}}],\"bar\":[{\"error_x\":{\"color\":\"#2a3f5f\"},\"error_y\":{\"color\":\"#2a3f5f\"},\"marker\":{\"line\":{\"color\":\"#E5ECF6\",\"width\":0.5},\"pattern\":{\"fillmode\":\"overlay\",\"size\":10,\"solidity\":0.2}},\"type\":\"bar\"}],\"scattergeo\":[{\"type\":\"scattergeo\",\"marker\":{\"colorbar\":{\"outlinewidth\":0,\"ticks\":\"\"}}}],\"scatterpolar\":[{\"type\":\"scatterpolar\",\"marker\":{\"colorbar\":{\"outlinewidth\":0,\"ticks\":\"\"}}}],\"histogram\":[{\"marker\":{\"pattern\":{\"fillmode\":\"overlay\",\"size\":10,\"solidity\":0.2}},\"type\":\"histogram\"}],\"scattergl\":[{\"type\":\"scattergl\",\"marker\":{\"colorbar\":{\"outlinewidth\":0,\"ticks\":\"\"}}}],\"scatter3d\":[{\"type\":\"scatter3d\",\"line\":{\"colorbar\":{\"outlinewidth\":0,\"ticks\":\"\"}},\"marker\":{\"colorbar\":{\"outlinewidth\":0,\"ticks\":\"\"}}}],\"scattermapbox\":[{\"type\":\"scattermapbox\",\"marker\":{\"colorbar\":{\"outlinewidth\":0,\"ticks\":\"\"}}}],\"scatterternary\":[{\"type\":\"scatterternary\",\"marker\":{\"colorbar\":{\"outlinewidth\":0,\"ticks\":\"\"}}}],\"scattercarpet\":[{\"type\":\"scattercarpet\",\"marker\":{\"colorbar\":{\"outlinewidth\":0,\"ticks\":\"\"}}}],\"carpet\":[{\"aaxis\":{\"endlinecolor\":\"#2a3f5f\",\"gridcolor\":\"white\",\"linecolor\":\"white\",\"minorgridcolor\":\"white\",\"startlinecolor\":\"#2a3f5f\"},\"baxis\":{\"endlinecolor\":\"#2a3f5f\",\"gridcolor\":\"white\",\"linecolor\":\"white\",\"minorgridcolor\":\"white\",\"startlinecolor\":\"#2a3f5f\"},\"type\":\"carpet\"}],\"table\":[{\"cells\":{\"fill\":{\"color\":\"#EBF0F8\"},\"line\":{\"color\":\"white\"}},\"header\":{\"fill\":{\"color\":\"#C8D4E3\"},\"line\":{\"color\":\"white\"}},\"type\":\"table\"}],\"barpolar\":[{\"marker\":{\"line\":{\"color\":\"#E5ECF6\",\"width\":0.5},\"pattern\":{\"fillmode\":\"overlay\",\"size\":10,\"solidity\":0.2}},\"type\":\"barpolar\"}],\"pie\":[{\"automargin\":true,\"type\":\"pie\"}]},\"layout\":{\"autotypenumbers\":\"strict\",\"colorway\":[\"#636efa\",\"#EF553B\",\"#00cc96\",\"#ab63fa\",\"#FFA15A\",\"#19d3f3\",\"#FF6692\",\"#B6E880\",\"#FF97FF\",\"#FECB52\"],\"font\":{\"color\":\"#2a3f5f\"},\"hovermode\":\"closest\",\"hoverlabel\":{\"align\":\"left\"},\"paper_bgcolor\":\"white\",\"plot_bgcolor\":\"#E5ECF6\",\"polar\":{\"bgcolor\":\"#E5ECF6\",\"angularaxis\":{\"gridcolor\":\"white\",\"linecolor\":\"white\",\"ticks\":\"\"},\"radialaxis\":{\"gridcolor\":\"white\",\"linecolor\":\"white\",\"ticks\":\"\"}},\"ternary\":{\"bgcolor\":\"#E5ECF6\",\"aaxis\":{\"gridcolor\":\"white\",\"linecolor\":\"white\",\"ticks\":\"\"},\"baxis\":{\"gridcolor\":\"white\",\"linecolor\":\"white\",\"ticks\":\"\"},\"caxis\":{\"gridcolor\":\"white\",\"linecolor\":\"white\",\"ticks\":\"\"}},\"coloraxis\":{\"colorbar\":{\"outlinewidth\":0,\"ticks\":\"\"}},\"colorscale\":{\"sequential\":[[0.0,\"#0d0887\"],[0.1111111111111111,\"#46039f\"],[0.2222222222222222,\"#7201a8\"],[0.3333333333333333,\"#9c179e\"],[0.4444444444444444,\"#bd3786\"],[0.5555555555555556,\"#d8576b\"],[0.6666666666666666,\"#ed7953\"],[0.7777777777777778,\"#fb9f3a\"],[0.8888888888888888,\"#fdca26\"],[1.0,\"#f0f921\"]],\"sequentialminus\":[[0.0,\"#0d0887\"],[0.1111111111111111,\"#46039f\"],[0.2222222222222222,\"#7201a8\"],[0.3333333333333333,\"#9c179e\"],[0.4444444444444444,\"#bd3786\"],[0.5555555555555556,\"#d8576b\"],[0.6666666666666666,\"#ed7953\"],[0.7777777777777778,\"#fb9f3a\"],[0.8888888888888888,\"#fdca26\"],[1.0,\"#f0f921\"]],\"diverging\":[[0,\"#8e0152\"],[0.1,\"#c51b7d\"],[0.2,\"#de77ae\"],[0.3,\"#f1b6da\"],[0.4,\"#fde0ef\"],[0.5,\"#f7f7f7\"],[0.6,\"#e6f5d0\"],[0.7,\"#b8e186\"],[0.8,\"#7fbc41\"],[0.9,\"#4d9221\"],[1,\"#276419\"]]},\"xaxis\":{\"gridcolor\":\"white\",\"linecolor\":\"white\",\"ticks\":\"\",\"title\":{\"standoff\":15},\"zerolinecolor\":\"white\",\"automargin\":true,\"zerolinewidth\":2},\"yaxis\":{\"gridcolor\":\"white\",\"linecolor\":\"white\",\"ticks\":\"\",\"title\":{\"standoff\":15},\"zerolinecolor\":\"white\",\"automargin\":true,\"zerolinewidth\":2},\"scene\":{\"xaxis\":{\"backgroundcolor\":\"#E5ECF6\",\"gridcolor\":\"white\",\"linecolor\":\"white\",\"showbackground\":true,\"ticks\":\"\",\"zerolinecolor\":\"white\",\"gridwidth\":2},\"yaxis\":{\"backgroundcolor\":\"#E5ECF6\",\"gridcolor\":\"white\",\"linecolor\":\"white\",\"showbackground\":true,\"ticks\":\"\",\"zerolinecolor\":\"white\",\"gridwidth\":2},\"zaxis\":{\"backgroundcolor\":\"#E5ECF6\",\"gridcolor\":\"white\",\"linecolor\":\"white\",\"showbackground\":true,\"ticks\":\"\",\"zerolinecolor\":\"white\",\"gridwidth\":2}},\"shapedefaults\":{\"line\":{\"color\":\"#2a3f5f\"}},\"annotationdefaults\":{\"arrowcolor\":\"#2a3f5f\",\"arrowhead\":0,\"arrowwidth\":1},\"geo\":{\"bgcolor\":\"white\",\"landcolor\":\"#E5ECF6\",\"subunitcolor\":\"white\",\"showland\":true,\"showlakes\":true,\"lakecolor\":\"white\"},\"title\":{\"x\":0.05},\"mapbox\":{\"style\":\"light\"}}},\"xaxis\":{\"anchor\":\"y\",\"domain\":[0.0,1.0],\"title\":{\"text\":\"Year\"}},\"yaxis\":{\"anchor\":\"x\",\"domain\":[0.0,1.0],\"title\":{\"text\":\"Population Change (%)\"}},\"legend\":{\"title\":{\"text\":\"province\"},\"tracegroupgap\":0},\"margin\":{\"t\":60},\"title\":{\"text\":\"Population Change Over Years by Province\"}},                        {\"responsive\": true}                    ).then(function(){\n",
              "                            \n",
              "var gd = document.getElementById('c08fac87-388f-41ee-b821-d75c4d89807e');\n",
              "var x = new MutationObserver(function (mutations, observer) {{\n",
              "        var display = window.getComputedStyle(gd).display;\n",
              "        if (!display || display === 'none') {{\n",
              "            console.log([gd, 'removed!']);\n",
              "            Plotly.purge(gd);\n",
              "            observer.disconnect();\n",
              "        }}\n",
              "}});\n",
              "\n",
              "// Listen for the removal of the full notebook cells\n",
              "var notebookContainer = gd.closest('#notebook-container');\n",
              "if (notebookContainer) {{\n",
              "    x.observe(notebookContainer, {childList: true});\n",
              "}}\n",
              "\n",
              "// Listen for the clearing of the current output cell\n",
              "var outputEl = gd.closest('.output');\n",
              "if (outputEl) {{\n",
              "    x.observe(outputEl, {childList: true});\n",
              "}}\n",
              "\n",
              "                        })                };                            </script>        </div>\n",
              "</body>\n",
              "</html>"
            ]
          },
          "metadata": {}
        },
        {
          "output_type": "display_data",
          "data": {
            "text/html": [
              "<html>\n",
              "<head><meta charset=\"utf-8\" /></head>\n",
              "<body>\n",
              "    <div>            <script src=\"https://cdnjs.cloudflare.com/ajax/libs/mathjax/2.7.5/MathJax.js?config=TeX-AMS-MML_SVG\"></script><script type=\"text/javascript\">if (window.MathJax && window.MathJax.Hub && window.MathJax.Hub.Config) {window.MathJax.Hub.Config({SVG: {font: \"STIX-Web\"}});}</script>                <script type=\"text/javascript\">window.PlotlyConfig = {MathJaxConfig: 'local'};</script>\n",
              "        <script src=\"https://cdn.plot.ly/plotly-2.18.2.min.js\"></script>                <div id=\"b7665075-0522-46e6-98df-ca0eabe115f4\" class=\"plotly-graph-div\" style=\"height:525px; width:100%;\"></div>            <script type=\"text/javascript\">                                    window.PLOTLYENV=window.PLOTLYENV || {};                                    if (document.getElementById(\"b7665075-0522-46e6-98df-ca0eabe115f4\")) {                    Plotly.newPlot(                        \"b7665075-0522-46e6-98df-ca0eabe115f4\",                        [{\"hovertemplate\":\"province=Alberta<br>year=%{x}<br>vacancy_rate_change_pct=%{y}<extra></extra>\",\"legendgroup\":\"Alberta\",\"line\":{\"color\":\"#636efa\",\"dash\":\"solid\"},\"marker\":{\"symbol\":\"circle\"},\"mode\":\"lines\",\"name\":\"Alberta\",\"orientation\":\"v\",\"showlegend\":true,\"x\":[2014,2015,2016,2017,2018,2019,2020,2021,2022],\"xaxis\":\"x\",\"y\":[null,102.8169014084507,52.256944444444464,-14.25313568985177,-32.24734042553191,4.612365063788015,-5.44090056285177,-7.043650793650791,-48.77267876200641],\"yaxis\":\"y\",\"type\":\"scatter\"},{\"hovertemplate\":\"province=British Columbia<br>year=%{x}<br>vacancy_rate_change_pct=%{y}<extra></extra>\",\"legendgroup\":\"British Columbia\",\"line\":{\"color\":\"#EF553B\",\"dash\":\"solid\"},\"marker\":{\"symbol\":\"circle\"},\"mode\":\"lines\",\"name\":\"British Columbia\",\"orientation\":\"v\",\"showlegend\":true,\"x\":[2014,2015,2016,2017,2018,2019,2020,2021,2022],\"xaxis\":\"x\",\"y\":[null,2.635431918008768,27.674750356633382,-23.798882681564248,-16.862170087976537,8.818342151675495,-9.076175040518631,6.951871657753994,-22.33333333333333],\"yaxis\":\"y\",\"type\":\"scatter\"},{\"hovertemplate\":\"province=Manitoba<br>year=%{x}<br>vacancy_rate_change_pct=%{y}<extra></extra>\",\"legendgroup\":\"Manitoba\",\"line\":{\"color\":\"#00cc96\",\"dash\":\"solid\"},\"marker\":{\"symbol\":\"circle\"},\"mode\":\"lines\",\"name\":\"Manitoba\",\"orientation\":\"v\",\"showlegend\":true,\"x\":[2014,2015,2016,2017,2018,2019,2020,2021,2022],\"xaxis\":\"x\",\"y\":[null,12.244897959183664,-41.81818181818181,-20.31250000000001,203.92156862745102,-25.161290322580633,-13.793103448275868,104.0,-7.843137254901955],\"yaxis\":\"y\",\"type\":\"scatter\"},{\"hovertemplate\":\"province=New Brunswick<br>year=%{x}<br>vacancy_rate_change_pct=%{y}<extra></extra>\",\"legendgroup\":\"New Brunswick\",\"line\":{\"color\":\"#ab63fa\",\"dash\":\"solid\"},\"marker\":{\"symbol\":\"circle\"},\"mode\":\"lines\",\"name\":\"New Brunswick\",\"orientation\":\"v\",\"showlegend\":true,\"x\":[2014,2015,2016,2017,2018,2019,2020,2021,2022],\"xaxis\":\"x\",\"y\":[null,72.52252252252251,-13.054830287206265,-51.95195195195195,15.625,-3.2432432432432545,-24.581005586592163,-73.33333333333334,127.77777777777777],\"yaxis\":\"y\",\"type\":\"scatter\"},{\"hovertemplate\":\"province=Newfoundland and Labrador<br>year=%{x}<br>vacancy_rate_change_pct=%{y}<extra></extra>\",\"legendgroup\":\"Newfoundland and Labrador\",\"line\":{\"color\":\"#FFA15A\",\"dash\":\"solid\"},\"marker\":{\"symbol\":\"circle\"},\"mode\":\"lines\",\"name\":\"Newfoundland and Labrador\",\"orientation\":\"v\",\"showlegend\":true,\"x\":[2014,2015,2016,2017,2018,2019,2020,2021,2022],\"xaxis\":\"x\",\"y\":[null,-21.250000000000004,42.85714285714286,73.33333333333334,-1.9230769230769162,24.836601307189543,9.947643979057585,-48.57142857142856,-28.70370370370372],\"yaxis\":\"y\",\"type\":\"scatter\"},{\"hovertemplate\":\"province=Northwest Territories<br>year=%{x}<br>vacancy_rate_change_pct=%{y}<extra></extra>\",\"legendgroup\":\"Northwest Territories\",\"line\":{\"color\":\"#19d3f3\",\"dash\":\"solid\"},\"marker\":{\"symbol\":\"circle\"},\"mode\":\"lines\",\"name\":\"Northwest Territories\",\"orientation\":\"v\",\"showlegend\":true,\"x\":[2014,2015,2016,2017,2018,2019,2020,2021,2022],\"xaxis\":\"x\",\"y\":[null,-60.41666666666667,121.05263157894738,-19.047619047619058,47.058823529411775,-18.000000000000004,-14.634146341463406,-45.714285714285715,78.94736842105263],\"yaxis\":\"y\",\"type\":\"scatter\"},{\"hovertemplate\":\"province=Nova Scotia<br>year=%{x}<br>vacancy_rate_change_pct=%{y}<extra></extra>\",\"legendgroup\":\"Nova Scotia\",\"line\":{\"color\":\"#FF6692\",\"dash\":\"solid\"},\"marker\":{\"symbol\":\"circle\"},\"mode\":\"lines\",\"name\":\"Nova Scotia\",\"orientation\":\"v\",\"showlegend\":true,\"x\":[2014,2015,2016,2017,2018,2019,2020,2021,2022],\"xaxis\":\"x\",\"y\":[null,15.8682634730539,-19.89664082687338,-29.677419354838708,15.596330275229352,-20.238095238095234,-18.905472636815922,-40.49079754601228,-67.01030927835052],\"yaxis\":\"y\",\"type\":\"scatter\"},{\"hovertemplate\":\"province=Ontario<br>year=%{x}<br>vacancy_rate_change_pct=%{y}<extra></extra>\",\"legendgroup\":\"Ontario\",\"line\":{\"color\":\"#B6E880\",\"dash\":\"solid\"},\"marker\":{\"symbol\":\"circle\"},\"mode\":\"lines\",\"name\":\"Ontario\",\"orientation\":\"v\",\"showlegend\":true,\"x\":[2014,2015,2016,2017,2018,2019,2020,2021,2022],\"xaxis\":\"x\",\"y\":[null,-10.113636363636369,-31.036662452591646,-31.530705774518797,25.0334672021419,-3.6402569593147693,-21.000000000000018,-32.348804500703224,49.896049896049874],\"yaxis\":\"y\",\"type\":\"scatter\"},{\"hovertemplate\":\"province=Prince Edward Island<br>year=%{x}<br>vacancy_rate_change_pct=%{y}<extra></extra>\",\"legendgroup\":\"Prince Edward Island\",\"line\":{\"color\":\"#FF97FF\",\"dash\":\"solid\"},\"marker\":{\"symbol\":\"circle\"},\"mode\":\"lines\",\"name\":\"Prince Edward Island\",\"orientation\":\"v\",\"showlegend\":true,\"x\":[2014,2015,2016,2017,2018,2019,2020,2021,2022],\"xaxis\":\"x\",\"y\":[null,38.823529411764724,-53.38983050847458,-30.909090909090907,-68.42105263157893,91.66666666666663,69.56521739130437,-38.461538461538446,-33.333333333333336],\"yaxis\":\"y\",\"type\":\"scatter\"},{\"hovertemplate\":\"province=Quebec<br>year=%{x}<br>vacancy_rate_change_pct=%{y}<extra></extra>\",\"legendgroup\":\"Quebec\",\"line\":{\"color\":\"#FECB52\",\"dash\":\"solid\"},\"marker\":{\"symbol\":\"circle\"},\"mode\":\"lines\",\"name\":\"Quebec\",\"orientation\":\"v\",\"showlegend\":true,\"x\":[2014,2015,2016,2017,2018,2019,2020,2021,2022],\"xaxis\":\"x\",\"y\":[null,-4.917127071823213,16.443927948866953,-24.201596806387215,-30.48057932850561,-20.64393939393939,-31.264916467780413,-23.95833333333335,-33.78995433789953],\"yaxis\":\"y\",\"type\":\"scatter\"},{\"hovertemplate\":\"province=Saskatchewan<br>year=%{x}<br>vacancy_rate_change_pct=%{y}<extra></extra>\",\"legendgroup\":\"Saskatchewan\",\"line\":{\"color\":\"#636efa\",\"dash\":\"solid\"},\"marker\":{\"symbol\":\"circle\"},\"mode\":\"lines\",\"name\":\"Saskatchewan\",\"orientation\":\"v\",\"showlegend\":true,\"x\":[2014,2015,2016,2017,2018,2019,2020,2021,2022],\"xaxis\":\"x\",\"y\":[null,29.90099009900988,31.5548780487805,-5.561993047508684,-1.8404907975460016,33.750000000000014,-35.046728971962615,-24.17266187050361,3.2258064516129226],\"yaxis\":\"y\",\"type\":\"scatter\"},{\"hovertemplate\":\"province=Yukon<br>year=%{x}<br>vacancy_rate_change_pct=%{y}<extra></extra>\",\"legendgroup\":\"Yukon\",\"line\":{\"color\":\"#EF553B\",\"dash\":\"solid\"},\"marker\":{\"symbol\":\"circle\"},\"mode\":\"lines\",\"name\":\"Yukon\",\"orientation\":\"v\",\"showlegend\":true,\"x\":[2014,2015,2016,2017,2018,2019,2020,2021,2022],\"xaxis\":\"x\",\"y\":[null,null,null,null,null,null,null,null,null],\"yaxis\":\"y\",\"type\":\"scatter\"}],                        {\"template\":{\"data\":{\"histogram2dcontour\":[{\"type\":\"histogram2dcontour\",\"colorbar\":{\"outlinewidth\":0,\"ticks\":\"\"},\"colorscale\":[[0.0,\"#0d0887\"],[0.1111111111111111,\"#46039f\"],[0.2222222222222222,\"#7201a8\"],[0.3333333333333333,\"#9c179e\"],[0.4444444444444444,\"#bd3786\"],[0.5555555555555556,\"#d8576b\"],[0.6666666666666666,\"#ed7953\"],[0.7777777777777778,\"#fb9f3a\"],[0.8888888888888888,\"#fdca26\"],[1.0,\"#f0f921\"]]}],\"choropleth\":[{\"type\":\"choropleth\",\"colorbar\":{\"outlinewidth\":0,\"ticks\":\"\"}}],\"histogram2d\":[{\"type\":\"histogram2d\",\"colorbar\":{\"outlinewidth\":0,\"ticks\":\"\"},\"colorscale\":[[0.0,\"#0d0887\"],[0.1111111111111111,\"#46039f\"],[0.2222222222222222,\"#7201a8\"],[0.3333333333333333,\"#9c179e\"],[0.4444444444444444,\"#bd3786\"],[0.5555555555555556,\"#d8576b\"],[0.6666666666666666,\"#ed7953\"],[0.7777777777777778,\"#fb9f3a\"],[0.8888888888888888,\"#fdca26\"],[1.0,\"#f0f921\"]]}],\"heatmap\":[{\"type\":\"heatmap\",\"colorbar\":{\"outlinewidth\":0,\"ticks\":\"\"},\"colorscale\":[[0.0,\"#0d0887\"],[0.1111111111111111,\"#46039f\"],[0.2222222222222222,\"#7201a8\"],[0.3333333333333333,\"#9c179e\"],[0.4444444444444444,\"#bd3786\"],[0.5555555555555556,\"#d8576b\"],[0.6666666666666666,\"#ed7953\"],[0.7777777777777778,\"#fb9f3a\"],[0.8888888888888888,\"#fdca26\"],[1.0,\"#f0f921\"]]}],\"heatmapgl\":[{\"type\":\"heatmapgl\",\"colorbar\":{\"outlinewidth\":0,\"ticks\":\"\"},\"colorscale\":[[0.0,\"#0d0887\"],[0.1111111111111111,\"#46039f\"],[0.2222222222222222,\"#7201a8\"],[0.3333333333333333,\"#9c179e\"],[0.4444444444444444,\"#bd3786\"],[0.5555555555555556,\"#d8576b\"],[0.6666666666666666,\"#ed7953\"],[0.7777777777777778,\"#fb9f3a\"],[0.8888888888888888,\"#fdca26\"],[1.0,\"#f0f921\"]]}],\"contourcarpet\":[{\"type\":\"contourcarpet\",\"colorbar\":{\"outlinewidth\":0,\"ticks\":\"\"}}],\"contour\":[{\"type\":\"contour\",\"colorbar\":{\"outlinewidth\":0,\"ticks\":\"\"},\"colorscale\":[[0.0,\"#0d0887\"],[0.1111111111111111,\"#46039f\"],[0.2222222222222222,\"#7201a8\"],[0.3333333333333333,\"#9c179e\"],[0.4444444444444444,\"#bd3786\"],[0.5555555555555556,\"#d8576b\"],[0.6666666666666666,\"#ed7953\"],[0.7777777777777778,\"#fb9f3a\"],[0.8888888888888888,\"#fdca26\"],[1.0,\"#f0f921\"]]}],\"surface\":[{\"type\":\"surface\",\"colorbar\":{\"outlinewidth\":0,\"ticks\":\"\"},\"colorscale\":[[0.0,\"#0d0887\"],[0.1111111111111111,\"#46039f\"],[0.2222222222222222,\"#7201a8\"],[0.3333333333333333,\"#9c179e\"],[0.4444444444444444,\"#bd3786\"],[0.5555555555555556,\"#d8576b\"],[0.6666666666666666,\"#ed7953\"],[0.7777777777777778,\"#fb9f3a\"],[0.8888888888888888,\"#fdca26\"],[1.0,\"#f0f921\"]]}],\"mesh3d\":[{\"type\":\"mesh3d\",\"colorbar\":{\"outlinewidth\":0,\"ticks\":\"\"}}],\"scatter\":[{\"fillpattern\":{\"fillmode\":\"overlay\",\"size\":10,\"solidity\":0.2},\"type\":\"scatter\"}],\"parcoords\":[{\"type\":\"parcoords\",\"line\":{\"colorbar\":{\"outlinewidth\":0,\"ticks\":\"\"}}}],\"scatterpolargl\":[{\"type\":\"scatterpolargl\",\"marker\":{\"colorbar\":{\"outlinewidth\":0,\"ticks\":\"\"}}}],\"bar\":[{\"error_x\":{\"color\":\"#2a3f5f\"},\"error_y\":{\"color\":\"#2a3f5f\"},\"marker\":{\"line\":{\"color\":\"#E5ECF6\",\"width\":0.5},\"pattern\":{\"fillmode\":\"overlay\",\"size\":10,\"solidity\":0.2}},\"type\":\"bar\"}],\"scattergeo\":[{\"type\":\"scattergeo\",\"marker\":{\"colorbar\":{\"outlinewidth\":0,\"ticks\":\"\"}}}],\"scatterpolar\":[{\"type\":\"scatterpolar\",\"marker\":{\"colorbar\":{\"outlinewidth\":0,\"ticks\":\"\"}}}],\"histogram\":[{\"marker\":{\"pattern\":{\"fillmode\":\"overlay\",\"size\":10,\"solidity\":0.2}},\"type\":\"histogram\"}],\"scattergl\":[{\"type\":\"scattergl\",\"marker\":{\"colorbar\":{\"outlinewidth\":0,\"ticks\":\"\"}}}],\"scatter3d\":[{\"type\":\"scatter3d\",\"line\":{\"colorbar\":{\"outlinewidth\":0,\"ticks\":\"\"}},\"marker\":{\"colorbar\":{\"outlinewidth\":0,\"ticks\":\"\"}}}],\"scattermapbox\":[{\"type\":\"scattermapbox\",\"marker\":{\"colorbar\":{\"outlinewidth\":0,\"ticks\":\"\"}}}],\"scatterternary\":[{\"type\":\"scatterternary\",\"marker\":{\"colorbar\":{\"outlinewidth\":0,\"ticks\":\"\"}}}],\"scattercarpet\":[{\"type\":\"scattercarpet\",\"marker\":{\"colorbar\":{\"outlinewidth\":0,\"ticks\":\"\"}}}],\"carpet\":[{\"aaxis\":{\"endlinecolor\":\"#2a3f5f\",\"gridcolor\":\"white\",\"linecolor\":\"white\",\"minorgridcolor\":\"white\",\"startlinecolor\":\"#2a3f5f\"},\"baxis\":{\"endlinecolor\":\"#2a3f5f\",\"gridcolor\":\"white\",\"linecolor\":\"white\",\"minorgridcolor\":\"white\",\"startlinecolor\":\"#2a3f5f\"},\"type\":\"carpet\"}],\"table\":[{\"cells\":{\"fill\":{\"color\":\"#EBF0F8\"},\"line\":{\"color\":\"white\"}},\"header\":{\"fill\":{\"color\":\"#C8D4E3\"},\"line\":{\"color\":\"white\"}},\"type\":\"table\"}],\"barpolar\":[{\"marker\":{\"line\":{\"color\":\"#E5ECF6\",\"width\":0.5},\"pattern\":{\"fillmode\":\"overlay\",\"size\":10,\"solidity\":0.2}},\"type\":\"barpolar\"}],\"pie\":[{\"automargin\":true,\"type\":\"pie\"}]},\"layout\":{\"autotypenumbers\":\"strict\",\"colorway\":[\"#636efa\",\"#EF553B\",\"#00cc96\",\"#ab63fa\",\"#FFA15A\",\"#19d3f3\",\"#FF6692\",\"#B6E880\",\"#FF97FF\",\"#FECB52\"],\"font\":{\"color\":\"#2a3f5f\"},\"hovermode\":\"closest\",\"hoverlabel\":{\"align\":\"left\"},\"paper_bgcolor\":\"white\",\"plot_bgcolor\":\"#E5ECF6\",\"polar\":{\"bgcolor\":\"#E5ECF6\",\"angularaxis\":{\"gridcolor\":\"white\",\"linecolor\":\"white\",\"ticks\":\"\"},\"radialaxis\":{\"gridcolor\":\"white\",\"linecolor\":\"white\",\"ticks\":\"\"}},\"ternary\":{\"bgcolor\":\"#E5ECF6\",\"aaxis\":{\"gridcolor\":\"white\",\"linecolor\":\"white\",\"ticks\":\"\"},\"baxis\":{\"gridcolor\":\"white\",\"linecolor\":\"white\",\"ticks\":\"\"},\"caxis\":{\"gridcolor\":\"white\",\"linecolor\":\"white\",\"ticks\":\"\"}},\"coloraxis\":{\"colorbar\":{\"outlinewidth\":0,\"ticks\":\"\"}},\"colorscale\":{\"sequential\":[[0.0,\"#0d0887\"],[0.1111111111111111,\"#46039f\"],[0.2222222222222222,\"#7201a8\"],[0.3333333333333333,\"#9c179e\"],[0.4444444444444444,\"#bd3786\"],[0.5555555555555556,\"#d8576b\"],[0.6666666666666666,\"#ed7953\"],[0.7777777777777778,\"#fb9f3a\"],[0.8888888888888888,\"#fdca26\"],[1.0,\"#f0f921\"]],\"sequentialminus\":[[0.0,\"#0d0887\"],[0.1111111111111111,\"#46039f\"],[0.2222222222222222,\"#7201a8\"],[0.3333333333333333,\"#9c179e\"],[0.4444444444444444,\"#bd3786\"],[0.5555555555555556,\"#d8576b\"],[0.6666666666666666,\"#ed7953\"],[0.7777777777777778,\"#fb9f3a\"],[0.8888888888888888,\"#fdca26\"],[1.0,\"#f0f921\"]],\"diverging\":[[0,\"#8e0152\"],[0.1,\"#c51b7d\"],[0.2,\"#de77ae\"],[0.3,\"#f1b6da\"],[0.4,\"#fde0ef\"],[0.5,\"#f7f7f7\"],[0.6,\"#e6f5d0\"],[0.7,\"#b8e186\"],[0.8,\"#7fbc41\"],[0.9,\"#4d9221\"],[1,\"#276419\"]]},\"xaxis\":{\"gridcolor\":\"white\",\"linecolor\":\"white\",\"ticks\":\"\",\"title\":{\"standoff\":15},\"zerolinecolor\":\"white\",\"automargin\":true,\"zerolinewidth\":2},\"yaxis\":{\"gridcolor\":\"white\",\"linecolor\":\"white\",\"ticks\":\"\",\"title\":{\"standoff\":15},\"zerolinecolor\":\"white\",\"automargin\":true,\"zerolinewidth\":2},\"scene\":{\"xaxis\":{\"backgroundcolor\":\"#E5ECF6\",\"gridcolor\":\"white\",\"linecolor\":\"white\",\"showbackground\":true,\"ticks\":\"\",\"zerolinecolor\":\"white\",\"gridwidth\":2},\"yaxis\":{\"backgroundcolor\":\"#E5ECF6\",\"gridcolor\":\"white\",\"linecolor\":\"white\",\"showbackground\":true,\"ticks\":\"\",\"zerolinecolor\":\"white\",\"gridwidth\":2},\"zaxis\":{\"backgroundcolor\":\"#E5ECF6\",\"gridcolor\":\"white\",\"linecolor\":\"white\",\"showbackground\":true,\"ticks\":\"\",\"zerolinecolor\":\"white\",\"gridwidth\":2}},\"shapedefaults\":{\"line\":{\"color\":\"#2a3f5f\"}},\"annotationdefaults\":{\"arrowcolor\":\"#2a3f5f\",\"arrowhead\":0,\"arrowwidth\":1},\"geo\":{\"bgcolor\":\"white\",\"landcolor\":\"#E5ECF6\",\"subunitcolor\":\"white\",\"showland\":true,\"showlakes\":true,\"lakecolor\":\"white\"},\"title\":{\"x\":0.05},\"mapbox\":{\"style\":\"light\"}}},\"xaxis\":{\"anchor\":\"y\",\"domain\":[0.0,1.0],\"title\":{\"text\":\"Year\"}},\"yaxis\":{\"anchor\":\"x\",\"domain\":[0.0,1.0],\"title\":{\"text\":\"Vacancy Rate Change (%)\"}},\"legend\":{\"title\":{\"text\":\"province\"},\"tracegroupgap\":0},\"margin\":{\"t\":60},\"title\":{\"text\":\"Vacancy Rate Change Over Years by Province\"}},                        {\"responsive\": true}                    ).then(function(){\n",
              "                            \n",
              "var gd = document.getElementById('b7665075-0522-46e6-98df-ca0eabe115f4');\n",
              "var x = new MutationObserver(function (mutations, observer) {{\n",
              "        var display = window.getComputedStyle(gd).display;\n",
              "        if (!display || display === 'none') {{\n",
              "            console.log([gd, 'removed!']);\n",
              "            Plotly.purge(gd);\n",
              "            observer.disconnect();\n",
              "        }}\n",
              "}});\n",
              "\n",
              "// Listen for the removal of the full notebook cells\n",
              "var notebookContainer = gd.closest('#notebook-container');\n",
              "if (notebookContainer) {{\n",
              "    x.observe(notebookContainer, {childList: true});\n",
              "}}\n",
              "\n",
              "// Listen for the clearing of the current output cell\n",
              "var outputEl = gd.closest('.output');\n",
              "if (outputEl) {{\n",
              "    x.observe(outputEl, {childList: true});\n",
              "}}\n",
              "\n",
              "                        })                };                            </script>        </div>\n",
              "</body>\n",
              "</html>"
            ]
          },
          "metadata": {}
        }
      ]
    },
    {
      "cell_type": "code",
      "source": [
        "# Plot the scatter plot to visualize the correlation between population and vacancy rates\n",
        "plt.scatter(merged_data['value_y'], merged_data['value_x'])\n",
        "plt.xlabel('Population Rate')\n",
        "plt.ylabel('Vacancy Rate')\n",
        "plt.title('Scatter plot of Population Rate vs. Vacancy Rate')\n",
        "plt.show()\n",
        "\n",
        "# Compute the correlation coefficient\n",
        "corr_coef = np.corrcoef(merged_data['value_y'], merged_data['value_x'])[0,1]\n",
        "print(\"Correlation Coefficient:\", corr_coef)"
      ],
      "metadata": {
        "colab": {
          "base_uri": "https://localhost:8080/",
          "height": 591
        },
        "id": "yiwCrSrCoUyN",
        "outputId": "a3c14d91-8161-4440-c876-4508b5f19585"
      },
      "execution_count": 238,
      "outputs": [
        {
          "output_type": "display_data",
          "data": {
            "text/plain": [
              "<Figure size 1000x600 with 1 Axes>"
            ],
            "image/png": "[encoded data removed]"
          },
          "metadata": {}
        },
        {
          "output_type": "stream",
          "name": "stdout",
          "text": [
            "Correlation Coefficient: -0.111812681395841\n"
          ]
        }
      ]
    },
    {
      "cell_type": "code",
      "source": [
        "# Plot boxplots to check for outliers\n",
        "plt.figure(figsize=(10,6))\n",
        "plt.subplot(1, 2, 1)\n",
        "sns.boxplot(x=merged_data['value_x'], palette='viridis')\n",
        "plt.title('Vacancy Rate Boxplot')\n",
        "plt.subplot(1, 2, 2)\n",
        "sns.boxplot(x=merged_data['value_y'], palette='viridis')\n",
        "plt.title('Population Boxplot')\n",
        "plt.show()"
      ],
      "metadata": {
        "colab": {
          "base_uri": "https://localhost:8080/",
          "height": 573
        },
        "id": "eBQaIBzgocLL",
        "outputId": "45cc1162-58f7-428f-83bd-dbb004b13e5c"
      },
      "execution_count": 240,
      "outputs": [
        {
          "output_type": "display_data",
          "data": {
            "text/plain": [
              "<Figure size 1000x600 with 2 Axes>"
            ],
            "image/png": "[encoded data removed]"
          },
          "metadata": {}
        }
      ]
    }
  ]
}